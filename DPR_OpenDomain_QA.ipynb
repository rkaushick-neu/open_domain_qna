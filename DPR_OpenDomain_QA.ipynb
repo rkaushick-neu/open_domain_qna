{
 "cells": [
  {
   "cell_type": "markdown",
   "metadata": {},
   "source": [
    "# Dense Retrieval Passage for Open Domain Question & Answering\n",
    "Submitted by: Rishabh Kaushick\n",
    "<br>Date: March 16, 2025"
   ]
  },
  {
   "cell_type": "markdown",
   "metadata": {},
   "source": [
    "# 1. Environment Setup"
   ]
  },
  {
   "cell_type": "code",
   "execution_count": 1,
   "metadata": {},
   "outputs": [
    {
     "name": "stdout",
     "output_type": "stream",
     "text": [
      "Note: you may need to restart the kernel to use updated packages.\n"
     ]
    }
   ],
   "source": [
    "%pip install --quiet torch transformers faiss-cpu"
   ]
  },
  {
   "cell_type": "code",
   "execution_count": 2,
   "metadata": {},
   "outputs": [
    {
     "name": "stdout",
     "output_type": "stream",
     "text": [
      "Note: you may need to restart the kernel to use updated packages.\n"
     ]
    }
   ],
   "source": [
    "# installing datasets (hugging face dataset library)\n",
    "%pip install --quiet datasets"
   ]
  },
  {
   "cell_type": "markdown",
   "metadata": {},
   "source": [
    "Restarting the kernel as suggested."
   ]
  },
  {
   "cell_type": "code",
   "execution_count": 3,
   "metadata": {},
   "outputs": [],
   "source": [
    "%reset"
   ]
  },
  {
   "cell_type": "code",
   "execution_count": 4,
   "metadata": {},
   "outputs": [
    {
     "name": "stderr",
     "output_type": "stream",
     "text": [
      "/opt/homebrew/anaconda3/envs/csye7230/lib/python3.10/site-packages/tqdm/auto.py:21: TqdmWarning: IProgress not found. Please update jupyter and ipywidgets. See https://ipywidgets.readthedocs.io/en/stable/user_install.html\n",
      "  from .autonotebook import tqdm as notebook_tqdm\n"
     ]
    }
   ],
   "source": [
    "import torch\n",
    "from datasets import load_dataset, load_from_disk\n",
    "import matplotlib.pyplot as plt"
   ]
  },
  {
   "cell_type": "markdown",
   "metadata": {},
   "source": [
    "## CUDA: GPU Availability"
   ]
  },
  {
   "cell_type": "code",
   "execution_count": 5,
   "metadata": {},
   "outputs": [
    {
     "name": "stdout",
     "output_type": "stream",
     "text": [
      "PyTorch version: 2.6.0\n",
      "Is CUDA available: False\n",
      "CUDA is not available. Running on CPU.\n"
     ]
    }
   ],
   "source": [
    " \n",
    "print(f\"PyTorch version: {torch.__version__}\")\n",
    "print(f\"Is CUDA available: {torch.cuda.is_available()}\")\n",
    " \n",
    "if torch.cuda.is_available():\n",
    "    print(f\"CUDA version: {torch.version.cuda}\")\n",
    "    print(f\"cuDNN version: {torch.backends.cudnn.version()}\")\n",
    "    print(f\"cuDNN enabled: {torch.backends.cudnn.enabled}\")\n",
    "    print(f\"GPU Count: {torch.cuda.device_count()}\")\n",
    "    \n",
    "    for i in range(torch.cuda.device_count()):\n",
    "        print(f\"GPU {i}: {torch.cuda.get_device_name(i)}\")\n",
    "        print(f\"Memory Allocated: {torch.cuda.memory_allocated(i) / 1024**2:.2f} MB\")\n",
    "        print(f\"Memory Reserved: {torch.cuda.memory_reserved(i) / 1024**2:.2f} MB\")\n",
    " \n",
    "else:\n",
    "    print(\"CUDA is not available. Running on CPU.\")"
   ]
  },
  {
   "cell_type": "markdown",
   "metadata": {},
   "source": [
    "# 2. Dataset Selection and Exploration (15%)"
   ]
  },
  {
   "cell_type": "markdown",
   "metadata": {},
   "source": [
    "## Loading Dataset (from HuggingFace)"
   ]
  },
  {
   "cell_type": "markdown",
   "metadata": {},
   "source": [
    "### Download Training Set"
   ]
  },
  {
   "cell_type": "code",
   "execution_count": 5,
   "metadata": {},
   "outputs": [
    {
     "name": "stderr",
     "output_type": "stream",
     "text": [
      "Generating validation split: 100%|██████████| 101093/101093 [00:00<00:00, 236215.19 examples/s]\n",
      "Generating train split: 100%|██████████| 808731/808731 [00:02<00:00, 299172.53 examples/s]\n",
      "Generating test split: 100%|██████████| 101092/101092 [00:00<00:00, 309588.97 examples/s]\n"
     ]
    }
   ],
   "source": [
    "dataset = load_dataset(\"ms_marco\", \"v2.1\", split=\"train[:15000]\")"
   ]
  },
  {
   "cell_type": "markdown",
   "metadata": {},
   "source": [
    "### Saving Training Set to Disk"
   ]
  },
  {
   "cell_type": "code",
   "execution_count": null,
   "metadata": {},
   "outputs": [],
   "source": [
    "# need to save the dataset in /data/train\n",
    "dataset.save_to_disk(\"./data/train/ms_marco_15k\")"
   ]
  },
  {
   "cell_type": "markdown",
   "metadata": {},
   "source": [
    "### Loading Train Set from Disk"
   ]
  },
  {
   "cell_type": "code",
   "execution_count": 6,
   "metadata": {},
   "outputs": [],
   "source": [
    "# https://huggingface.co/docs/datasets/v3.3.2/en/package_reference/main_classes#datasets.Dataset.save_to_disk\n",
    "\n",
    "# load the already saved dataset from the disk\n",
    "dataset = load_from_disk(\"./data/train/ms_marco_15k\")"
   ]
  },
  {
   "cell_type": "code",
   "execution_count": 7,
   "metadata": {},
   "outputs": [
    {
     "name": "stdout",
     "output_type": "stream",
     "text": [
      "15000\n"
     ]
    }
   ],
   "source": [
    "print(len(dataset))"
   ]
  },
  {
   "cell_type": "markdown",
   "metadata": {},
   "source": [
    "### Loading & Saving Validation Set"
   ]
  },
  {
   "cell_type": "code",
   "execution_count": 8,
   "metadata": {},
   "outputs": [],
   "source": [
    "validation_dataset = load_dataset(\"ms_marco\", \"v2.1\", split=\"validation[:10000]\")"
   ]
  },
  {
   "cell_type": "code",
   "execution_count": 9,
   "metadata": {},
   "outputs": [
    {
     "name": "stderr",
     "output_type": "stream",
     "text": [
      "Saving the dataset (1/1 shards): 100%|██████████| 10000/10000 [00:00<00:00, 103656.22 examples/s]\n"
     ]
    }
   ],
   "source": [
    "# save validation dataset\n",
    "validation_dataset.save_to_disk(\"./data/validation/ms_marco\")"
   ]
  },
  {
   "cell_type": "code",
   "execution_count": 7,
   "metadata": {},
   "outputs": [],
   "source": [
    "validation_dataset = load_from_disk(\"./data/validation/ms_marco\")"
   ]
  },
  {
   "cell_type": "code",
   "execution_count": 9,
   "metadata": {},
   "outputs": [
    {
     "data": {
      "text/plain": [
       "10000"
      ]
     },
     "execution_count": 9,
     "metadata": {},
     "output_type": "execute_result"
    }
   ],
   "source": [
    "len(validation_dataset)"
   ]
  },
  {
   "cell_type": "markdown",
   "metadata": {},
   "source": [
    "### Loading & Saving Test Set"
   ]
  },
  {
   "cell_type": "code",
   "execution_count": 12,
   "metadata": {},
   "outputs": [],
   "source": [
    "test_dataset = load_dataset(\"ms_marco\", \"v2.1\", split=\"test[:10000]\")"
   ]
  },
  {
   "cell_type": "code",
   "execution_count": 13,
   "metadata": {},
   "outputs": [
    {
     "name": "stderr",
     "output_type": "stream",
     "text": [
      "Saving the dataset (0/1 shards):   0%|          | 0/10000 [00:00<?, ? examples/s]"
     ]
    },
    {
     "name": "stderr",
     "output_type": "stream",
     "text": [
      "Saving the dataset (1/1 shards): 100%|██████████| 10000/10000 [00:00<00:00, 97400.38 examples/s]\n"
     ]
    }
   ],
   "source": [
    "# save test dataset to the disk\n",
    "test_dataset.save_to_disk(\"./data/test/ms_marco\")"
   ]
  },
  {
   "cell_type": "code",
   "execution_count": 8,
   "metadata": {},
   "outputs": [],
   "source": [
    "test_dataset = load_from_disk(\"./data/test/ms_marco\")"
   ]
  },
  {
   "cell_type": "markdown",
   "metadata": {},
   "source": [
    "## Exploratory Data Analysis"
   ]
  },
  {
   "cell_type": "code",
   "execution_count": 10,
   "metadata": {},
   "outputs": [
    {
     "data": {
      "text/plain": [
       "Dataset({\n",
       "    features: ['answers', 'passages', 'query', 'query_id', 'query_type', 'wellFormedAnswers'],\n",
       "    num_rows: 15000\n",
       "})"
      ]
     },
     "execution_count": 10,
     "metadata": {},
     "output_type": "execute_result"
    }
   ],
   "source": [
    "dataset"
   ]
  },
  {
   "cell_type": "code",
   "execution_count": 11,
   "metadata": {},
   "outputs": [
    {
     "data": {
      "text/plain": [
       "datasets.arrow_dataset.Dataset"
      ]
     },
     "execution_count": 11,
     "metadata": {},
     "output_type": "execute_result"
    }
   ],
   "source": [
    "type(dataset)"
   ]
  },
  {
   "cell_type": "markdown",
   "metadata": {},
   "source": [
    "Since the above is a different datatype for the dataset, for convenience, I am converting this to pandas DataFrame."
   ]
  },
  {
   "cell_type": "code",
   "execution_count": 12,
   "metadata": {},
   "outputs": [
    {
     "data": {
      "text/html": [
       "<div>\n",
       "<style scoped>\n",
       "    .dataframe tbody tr th:only-of-type {\n",
       "        vertical-align: middle;\n",
       "    }\n",
       "\n",
       "    .dataframe tbody tr th {\n",
       "        vertical-align: top;\n",
       "    }\n",
       "\n",
       "    .dataframe thead th {\n",
       "        text-align: right;\n",
       "    }\n",
       "</style>\n",
       "<table border=\"1\" class=\"dataframe\">\n",
       "  <thead>\n",
       "    <tr style=\"text-align: right;\">\n",
       "      <th></th>\n",
       "      <th>answers</th>\n",
       "      <th>passages</th>\n",
       "      <th>query</th>\n",
       "      <th>query_id</th>\n",
       "      <th>query_type</th>\n",
       "      <th>wellFormedAnswers</th>\n",
       "    </tr>\n",
       "  </thead>\n",
       "  <tbody>\n",
       "    <tr>\n",
       "      <th>0</th>\n",
       "      <td>[The immediate impact of the success of the ma...</td>\n",
       "      <td>{'is_selected': [1, 0, 0, 0, 0, 0, 0, 0, 0, 0]...</td>\n",
       "      <td>)what was the immediate impact of the success ...</td>\n",
       "      <td>1185869</td>\n",
       "      <td>DESCRIPTION</td>\n",
       "      <td>[]</td>\n",
       "    </tr>\n",
       "    <tr>\n",
       "      <th>1</th>\n",
       "      <td>[Restorative justice that fosters dialogue bet...</td>\n",
       "      <td>{'is_selected': [0, 0, 0, 0, 0, 0, 1, 0, 0, 0]...</td>\n",
       "      <td>_________ justice is designed to repair the ha...</td>\n",
       "      <td>1185868</td>\n",
       "      <td>DESCRIPTION</td>\n",
       "      <td>[]</td>\n",
       "    </tr>\n",
       "    <tr>\n",
       "      <th>2</th>\n",
       "      <td>[The reasons why Stalin wanted to control East...</td>\n",
       "      <td>{'is_selected': [0, 0, 0, 0, 0, 0, 1, 0, 0, 0]...</td>\n",
       "      <td>why did stalin want control of eastern europe</td>\n",
       "      <td>1185854</td>\n",
       "      <td>DESCRIPTION</td>\n",
       "      <td>[]</td>\n",
       "    </tr>\n",
       "    <tr>\n",
       "      <th>3</th>\n",
       "      <td>[Nails rust in water because water allows the ...</td>\n",
       "      <td>{'is_selected': [0, 0, 0, 0, 0, 1, 0, 0, 0, 0]...</td>\n",
       "      <td>why do nails get rusty</td>\n",
       "      <td>1185755</td>\n",
       "      <td>DESCRIPTION</td>\n",
       "      <td>[]</td>\n",
       "    </tr>\n",
       "    <tr>\n",
       "      <th>4</th>\n",
       "      <td>[Depona Ab is a library in Vilhelmina, Sweden.]</td>\n",
       "      <td>{'is_selected': [0, 0, 0, 0, 0, 0, 1, 0, 0, 0]...</td>\n",
       "      <td>depona ab</td>\n",
       "      <td>1184773</td>\n",
       "      <td>DESCRIPTION</td>\n",
       "      <td>[]</td>\n",
       "    </tr>\n",
       "  </tbody>\n",
       "</table>\n",
       "</div>"
      ],
      "text/plain": [
       "                                             answers  \\\n",
       "0  [The immediate impact of the success of the ma...   \n",
       "1  [Restorative justice that fosters dialogue bet...   \n",
       "2  [The reasons why Stalin wanted to control East...   \n",
       "3  [Nails rust in water because water allows the ...   \n",
       "4    [Depona Ab is a library in Vilhelmina, Sweden.]   \n",
       "\n",
       "                                            passages  \\\n",
       "0  {'is_selected': [1, 0, 0, 0, 0, 0, 0, 0, 0, 0]...   \n",
       "1  {'is_selected': [0, 0, 0, 0, 0, 0, 1, 0, 0, 0]...   \n",
       "2  {'is_selected': [0, 0, 0, 0, 0, 0, 1, 0, 0, 0]...   \n",
       "3  {'is_selected': [0, 0, 0, 0, 0, 1, 0, 0, 0, 0]...   \n",
       "4  {'is_selected': [0, 0, 0, 0, 0, 0, 1, 0, 0, 0]...   \n",
       "\n",
       "                                               query  query_id   query_type  \\\n",
       "0  )what was the immediate impact of the success ...   1185869  DESCRIPTION   \n",
       "1  _________ justice is designed to repair the ha...   1185868  DESCRIPTION   \n",
       "2      why did stalin want control of eastern europe   1185854  DESCRIPTION   \n",
       "3                             why do nails get rusty   1185755  DESCRIPTION   \n",
       "4                                          depona ab   1184773  DESCRIPTION   \n",
       "\n",
       "  wellFormedAnswers  \n",
       "0                []  \n",
       "1                []  \n",
       "2                []  \n",
       "3                []  \n",
       "4                []  "
      ]
     },
     "execution_count": 12,
     "metadata": {},
     "output_type": "execute_result"
    }
   ],
   "source": [
    "train_df = dataset.data.to_pandas()\n",
    "train_df.head()"
   ]
  },
  {
   "cell_type": "markdown",
   "metadata": {},
   "source": [
    "### Query & Answers (Examples)"
   ]
  },
  {
   "cell_type": "code",
   "execution_count": 13,
   "metadata": {},
   "outputs": [
    {
     "data": {
      "text/html": [
       "<div>\n",
       "<style scoped>\n",
       "    .dataframe tbody tr th:only-of-type {\n",
       "        vertical-align: middle;\n",
       "    }\n",
       "\n",
       "    .dataframe tbody tr th {\n",
       "        vertical-align: top;\n",
       "    }\n",
       "\n",
       "    .dataframe thead th {\n",
       "        text-align: right;\n",
       "    }\n",
       "</style>\n",
       "<table border=\"1\" class=\"dataframe\">\n",
       "  <thead>\n",
       "    <tr style=\"text-align: right;\">\n",
       "      <th></th>\n",
       "      <th>query</th>\n",
       "      <th>answers</th>\n",
       "    </tr>\n",
       "  </thead>\n",
       "  <tbody>\n",
       "    <tr>\n",
       "      <th>14995</th>\n",
       "      <td>what is a traditional breakfast food in chile</td>\n",
       "      <td>[Fresh bread (pan amasado) with fruit jellies ...</td>\n",
       "    </tr>\n",
       "    <tr>\n",
       "      <th>14996</th>\n",
       "      <td>what are the colors of a croton flower</td>\n",
       "      <td>[Originally croton leaves are green, but it ch...</td>\n",
       "    </tr>\n",
       "    <tr>\n",
       "      <th>14997</th>\n",
       "      <td>what is ce with a medical device</td>\n",
       "      <td>[CE Marking is a mandatory requirement for med...</td>\n",
       "    </tr>\n",
       "    <tr>\n",
       "      <th>14998</th>\n",
       "      <td>were ancient iberians an ethnic group?</td>\n",
       "      <td>[The Iberians were not a ethnic group.]</td>\n",
       "    </tr>\n",
       "    <tr>\n",
       "      <th>14999</th>\n",
       "      <td>what is a nanofiller</td>\n",
       "      <td>[No Answer Present.]</td>\n",
       "    </tr>\n",
       "  </tbody>\n",
       "</table>\n",
       "</div>"
      ],
      "text/plain": [
       "                                               query  \\\n",
       "14995  what is a traditional breakfast food in chile   \n",
       "14996         what are the colors of a croton flower   \n",
       "14997               what is ce with a medical device   \n",
       "14998         were ancient iberians an ethnic group?   \n",
       "14999                           what is a nanofiller   \n",
       "\n",
       "                                                 answers  \n",
       "14995  [Fresh bread (pan amasado) with fruit jellies ...  \n",
       "14996  [Originally croton leaves are green, but it ch...  \n",
       "14997  [CE Marking is a mandatory requirement for med...  \n",
       "14998            [The Iberians were not a ethnic group.]  \n",
       "14999                               [No Answer Present.]  "
      ]
     },
     "execution_count": 13,
     "metadata": {},
     "output_type": "execute_result"
    }
   ],
   "source": [
    "train_df[['query', 'answers']].tail()"
   ]
  },
  {
   "cell_type": "markdown",
   "metadata": {},
   "source": [
    "### Data & Data types"
   ]
  },
  {
   "cell_type": "code",
   "execution_count": 14,
   "metadata": {},
   "outputs": [
    {
     "name": "stdout",
     "output_type": "stream",
     "text": [
      "<class 'pandas.core.frame.DataFrame'>\n",
      "RangeIndex: 15000 entries, 0 to 14999\n",
      "Data columns (total 6 columns):\n",
      " #   Column             Non-Null Count  Dtype \n",
      "---  ------             --------------  ----- \n",
      " 0   answers            15000 non-null  object\n",
      " 1   passages           15000 non-null  object\n",
      " 2   query              15000 non-null  object\n",
      " 3   query_id           15000 non-null  int32 \n",
      " 4   query_type         15000 non-null  object\n",
      " 5   wellFormedAnswers  15000 non-null  object\n",
      "dtypes: int32(1), object(5)\n",
      "memory usage: 644.7+ KB\n"
     ]
    }
   ],
   "source": [
    "train_df.info()"
   ]
  },
  {
   "cell_type": "markdown",
   "metadata": {},
   "source": [
    "#### Query ID "
   ]
  },
  {
   "cell_type": "code",
   "execution_count": 15,
   "metadata": {},
   "outputs": [
    {
     "data": {
      "text/plain": [
       "15000"
      ]
     },
     "execution_count": 15,
     "metadata": {},
     "output_type": "execute_result"
    }
   ],
   "source": [
    "train_df['query_id'].nunique()"
   ]
  },
  {
   "cell_type": "code",
   "execution_count": 16,
   "metadata": {},
   "outputs": [
    {
     "data": {
      "text/html": [
       "<div>\n",
       "<style scoped>\n",
       "    .dataframe tbody tr th:only-of-type {\n",
       "        vertical-align: middle;\n",
       "    }\n",
       "\n",
       "    .dataframe tbody tr th {\n",
       "        vertical-align: top;\n",
       "    }\n",
       "\n",
       "    .dataframe thead th {\n",
       "        text-align: right;\n",
       "    }\n",
       "</style>\n",
       "<table border=\"1\" class=\"dataframe\">\n",
       "  <thead>\n",
       "    <tr style=\"text-align: right;\">\n",
       "      <th></th>\n",
       "      <th>query_id</th>\n",
       "    </tr>\n",
       "  </thead>\n",
       "  <tbody>\n",
       "    <tr>\n",
       "      <th>count</th>\n",
       "      <td>1.500000e+04</td>\n",
       "    </tr>\n",
       "    <tr>\n",
       "      <th>mean</th>\n",
       "      <td>5.317663e+05</td>\n",
       "    </tr>\n",
       "    <tr>\n",
       "      <th>std</th>\n",
       "      <td>2.870053e+05</td>\n",
       "    </tr>\n",
       "    <tr>\n",
       "      <th>min</th>\n",
       "      <td>9.900000e+01</td>\n",
       "    </tr>\n",
       "    <tr>\n",
       "      <th>25%</th>\n",
       "      <td>3.797632e+05</td>\n",
       "    </tr>\n",
       "    <tr>\n",
       "      <th>50%</th>\n",
       "      <td>5.198510e+05</td>\n",
       "    </tr>\n",
       "    <tr>\n",
       "      <th>75%</th>\n",
       "      <td>6.633990e+05</td>\n",
       "    </tr>\n",
       "    <tr>\n",
       "      <th>max</th>\n",
       "      <td>1.185869e+06</td>\n",
       "    </tr>\n",
       "  </tbody>\n",
       "</table>\n",
       "</div>"
      ],
      "text/plain": [
       "           query_id\n",
       "count  1.500000e+04\n",
       "mean   5.317663e+05\n",
       "std    2.870053e+05\n",
       "min    9.900000e+01\n",
       "25%    3.797632e+05\n",
       "50%    5.198510e+05\n",
       "75%    6.633990e+05\n",
       "max    1.185869e+06"
      ]
     },
     "execution_count": 16,
     "metadata": {},
     "output_type": "execute_result"
    }
   ],
   "source": [
    "train_df.describe()"
   ]
  },
  {
   "cell_type": "markdown",
   "metadata": {},
   "source": [
    "Based on the statistical distribution above the Query ID column has values ranging from 99 to ~1.2 million. Therefore int32 is the smallest and most optimal datatype for this column. \n"
   ]
  },
  {
   "cell_type": "markdown",
   "metadata": {},
   "source": [
    "#### Query Type"
   ]
  },
  {
   "cell_type": "code",
   "execution_count": 17,
   "metadata": {},
   "outputs": [
    {
     "data": {
      "text/plain": [
       "array(['DESCRIPTION', 'LOCATION', 'NUMERIC', 'ENTITY', 'PERSON'],\n",
       "      dtype=object)"
      ]
     },
     "execution_count": 17,
     "metadata": {},
     "output_type": "execute_result"
    }
   ],
   "source": [
    "train_df['query_type'].unique()"
   ]
  },
  {
   "cell_type": "code",
   "execution_count": 18,
   "metadata": {},
   "outputs": [
    {
     "data": {
      "text/plain": [
       "query_type\n",
       "DESCRIPTION    9344\n",
       "NUMERIC        3232\n",
       "ENTITY         1392\n",
       "LOCATION        632\n",
       "PERSON          400\n",
       "Name: count, dtype: int64"
      ]
     },
     "execution_count": 18,
     "metadata": {},
     "output_type": "execute_result"
    }
   ],
   "source": [
    "query_type_counts = train_df['query_type'].value_counts()\n",
    "query_type_counts"
   ]
  },
  {
   "cell_type": "code",
   "execution_count": 19,
   "metadata": {},
   "outputs": [
    {
     "data": {
      "image/png": "[encoded data removed]",
      "text/plain": [
       "<Figure size 1000x800 with 1 Axes>"
      ]
     },
     "metadata": {},
     "output_type": "display_data"
    }
   ],
   "source": [
    "# Create pie chart\n",
    "plt.figure(figsize=(10, 8))\n",
    "plt.pie(query_type_counts.values, \n",
    "        labels=query_type_counts.index, \n",
    "        autopct='%1.1f%%', \n",
    "        startangle=90)\n",
    "\n",
    "plt.title('Distribution of Query Types in MS MARCO Train Subset of Data')\n",
    "\n",
    "plt.show()"
   ]
  },
  {
   "cell_type": "markdown",
   "metadata": {},
   "source": [
    "Let's look at different query types:"
   ]
  },
  {
   "cell_type": "code",
   "execution_count": 20,
   "metadata": {},
   "outputs": [
    {
     "data": {
      "text/html": [
       "<div>\n",
       "<style scoped>\n",
       "    .dataframe tbody tr th:only-of-type {\n",
       "        vertical-align: middle;\n",
       "    }\n",
       "\n",
       "    .dataframe tbody tr th {\n",
       "        vertical-align: top;\n",
       "    }\n",
       "\n",
       "    .dataframe thead th {\n",
       "        text-align: right;\n",
       "    }\n",
       "</style>\n",
       "<table border=\"1\" class=\"dataframe\">\n",
       "  <thead>\n",
       "    <tr style=\"text-align: right;\">\n",
       "      <th></th>\n",
       "      <th>query</th>\n",
       "      <th>answers</th>\n",
       "      <th>wellFormedAnswers</th>\n",
       "    </tr>\n",
       "  </thead>\n",
       "  <tbody>\n",
       "    <tr>\n",
       "      <th>0</th>\n",
       "      <td>)what was the immediate impact of the success ...</td>\n",
       "      <td>[The immediate impact of the success of the ma...</td>\n",
       "      <td>[]</td>\n",
       "    </tr>\n",
       "    <tr>\n",
       "      <th>1</th>\n",
       "      <td>_________ justice is designed to repair the ha...</td>\n",
       "      <td>[Restorative justice that fosters dialogue bet...</td>\n",
       "      <td>[]</td>\n",
       "    </tr>\n",
       "    <tr>\n",
       "      <th>2</th>\n",
       "      <td>why did stalin want control of eastern europe</td>\n",
       "      <td>[The reasons why Stalin wanted to control East...</td>\n",
       "      <td>[]</td>\n",
       "    </tr>\n",
       "    <tr>\n",
       "      <th>3</th>\n",
       "      <td>why do nails get rusty</td>\n",
       "      <td>[Nails rust in water because water allows the ...</td>\n",
       "      <td>[]</td>\n",
       "    </tr>\n",
       "    <tr>\n",
       "      <th>4</th>\n",
       "      <td>depona ab</td>\n",
       "      <td>[Depona Ab is a library in Vilhelmina, Sweden.]</td>\n",
       "      <td>[]</td>\n",
       "    </tr>\n",
       "    <tr>\n",
       "      <th>...</th>\n",
       "      <td>...</td>\n",
       "      <td>...</td>\n",
       "      <td>...</td>\n",
       "    </tr>\n",
       "    <tr>\n",
       "      <th>14992</th>\n",
       "      <td>minimalism meaning</td>\n",
       "      <td>[Minimalism is a movement in sculpture and pai...</td>\n",
       "      <td>[]</td>\n",
       "    </tr>\n",
       "    <tr>\n",
       "      <th>14994</th>\n",
       "      <td>what does motd stand for in terraria</td>\n",
       "      <td>[No Answer Present.]</td>\n",
       "      <td>[]</td>\n",
       "    </tr>\n",
       "    <tr>\n",
       "      <th>14997</th>\n",
       "      <td>what is ce with a medical device</td>\n",
       "      <td>[CE Marking is a mandatory requirement for med...</td>\n",
       "      <td>[]</td>\n",
       "    </tr>\n",
       "    <tr>\n",
       "      <th>14998</th>\n",
       "      <td>were ancient iberians an ethnic group?</td>\n",
       "      <td>[The Iberians were not a ethnic group.]</td>\n",
       "      <td>[]</td>\n",
       "    </tr>\n",
       "    <tr>\n",
       "      <th>14999</th>\n",
       "      <td>what is a nanofiller</td>\n",
       "      <td>[No Answer Present.]</td>\n",
       "      <td>[]</td>\n",
       "    </tr>\n",
       "  </tbody>\n",
       "</table>\n",
       "<p>9344 rows × 3 columns</p>\n",
       "</div>"
      ],
      "text/plain": [
       "                                                   query  \\\n",
       "0      )what was the immediate impact of the success ...   \n",
       "1      _________ justice is designed to repair the ha...   \n",
       "2          why did stalin want control of eastern europe   \n",
       "3                                 why do nails get rusty   \n",
       "4                                              depona ab   \n",
       "...                                                  ...   \n",
       "14992                                 minimalism meaning   \n",
       "14994               what does motd stand for in terraria   \n",
       "14997                   what is ce with a medical device   \n",
       "14998             were ancient iberians an ethnic group?   \n",
       "14999                               what is a nanofiller   \n",
       "\n",
       "                                                 answers wellFormedAnswers  \n",
       "0      [The immediate impact of the success of the ma...                []  \n",
       "1      [Restorative justice that fosters dialogue bet...                []  \n",
       "2      [The reasons why Stalin wanted to control East...                []  \n",
       "3      [Nails rust in water because water allows the ...                []  \n",
       "4        [Depona Ab is a library in Vilhelmina, Sweden.]                []  \n",
       "...                                                  ...               ...  \n",
       "14992  [Minimalism is a movement in sculpture and pai...                []  \n",
       "14994                               [No Answer Present.]                []  \n",
       "14997  [CE Marking is a mandatory requirement for med...                []  \n",
       "14998            [The Iberians were not a ethnic group.]                []  \n",
       "14999                               [No Answer Present.]                []  \n",
       "\n",
       "[9344 rows x 3 columns]"
      ]
     },
     "execution_count": 20,
     "metadata": {},
     "output_type": "execute_result"
    }
   ],
   "source": [
    "# query type: DESCRIPTION\n",
    "train_df.query(\"query_type == 'DESCRIPTION'\")[['query', 'answers', 'wellFormedAnswers']]"
   ]
  },
  {
   "cell_type": "code",
   "execution_count": 21,
   "metadata": {},
   "outputs": [
    {
     "data": {
      "text/html": [
       "<div>\n",
       "<style scoped>\n",
       "    .dataframe tbody tr th:only-of-type {\n",
       "        vertical-align: middle;\n",
       "    }\n",
       "\n",
       "    .dataframe tbody tr th {\n",
       "        vertical-align: top;\n",
       "    }\n",
       "\n",
       "    .dataframe thead th {\n",
       "        text-align: right;\n",
       "    }\n",
       "</style>\n",
       "<table border=\"1\" class=\"dataframe\">\n",
       "  <thead>\n",
       "    <tr style=\"text-align: right;\">\n",
       "      <th></th>\n",
       "      <th>query</th>\n",
       "      <th>answers</th>\n",
       "      <th>wellFormedAnswers</th>\n",
       "    </tr>\n",
       "  </thead>\n",
       "  <tbody>\n",
       "    <tr>\n",
       "      <th>5</th>\n",
       "      <td>is the atlanta airport the busiest in the world</td>\n",
       "      <td>[No Answer Present.]</td>\n",
       "      <td>[]</td>\n",
       "    </tr>\n",
       "    <tr>\n",
       "      <th>18</th>\n",
       "      <td>what county is dewitt michigan in?</td>\n",
       "      <td>[DeWitt is located in Clinton County, Michigan...</td>\n",
       "      <td>[]</td>\n",
       "    </tr>\n",
       "    <tr>\n",
       "      <th>23</th>\n",
       "      <td>what county is columbus city in</td>\n",
       "      <td>[Bartholomew]</td>\n",
       "      <td>[Columbus is a city in Bartholomew County.]</td>\n",
       "    </tr>\n",
       "    <tr>\n",
       "      <th>26</th>\n",
       "      <td>what county is shelton, ct</td>\n",
       "      <td>[Shelton is in Fairfield County, Connecticut, ...</td>\n",
       "      <td>[]</td>\n",
       "    </tr>\n",
       "    <tr>\n",
       "      <th>42</th>\n",
       "      <td>what county is seminole fl in</td>\n",
       "      <td>[Pinellas County]</td>\n",
       "      <td>[Seminole, Florida is in Pinellas County.]</td>\n",
       "    </tr>\n",
       "    <tr>\n",
       "      <th>...</th>\n",
       "      <td>...</td>\n",
       "      <td>...</td>\n",
       "      <td>...</td>\n",
       "    </tr>\n",
       "    <tr>\n",
       "      <th>14872</th>\n",
       "      <td>is dubai a world city</td>\n",
       "      <td>[Yes]</td>\n",
       "      <td>[]</td>\n",
       "    </tr>\n",
       "    <tr>\n",
       "      <th>14945</th>\n",
       "      <td>what county is hazelwood, pa located</td>\n",
       "      <td>[Allegheny County]</td>\n",
       "      <td>[]</td>\n",
       "    </tr>\n",
       "    <tr>\n",
       "      <th>14947</th>\n",
       "      <td>what county is louin ms in</td>\n",
       "      <td>[Jasper County]</td>\n",
       "      <td>[Louin is located in Jasper County, Mississippi.]</td>\n",
       "    </tr>\n",
       "    <tr>\n",
       "      <th>14959</th>\n",
       "      <td>mindbodygreen address</td>\n",
       "      <td>[No Answer Present.]</td>\n",
       "      <td>[]</td>\n",
       "    </tr>\n",
       "    <tr>\n",
       "      <th>14981</th>\n",
       "      <td>mines in burgersfort limpopo</td>\n",
       "      <td>[Bokoni Platinum Mines is located at Off r37 H...</td>\n",
       "      <td>[]</td>\n",
       "    </tr>\n",
       "  </tbody>\n",
       "</table>\n",
       "<p>632 rows × 3 columns</p>\n",
       "</div>"
      ],
      "text/plain": [
       "                                                 query  \\\n",
       "5      is the atlanta airport the busiest in the world   \n",
       "18                  what county is dewitt michigan in?   \n",
       "23                     what county is columbus city in   \n",
       "26                          what county is shelton, ct   \n",
       "42                       what county is seminole fl in   \n",
       "...                                                ...   \n",
       "14872                            is dubai a world city   \n",
       "14945             what county is hazelwood, pa located   \n",
       "14947                       what county is louin ms in   \n",
       "14959                            mindbodygreen address   \n",
       "14981                     mines in burgersfort limpopo   \n",
       "\n",
       "                                                 answers  \\\n",
       "5                                   [No Answer Present.]   \n",
       "18     [DeWitt is located in Clinton County, Michigan...   \n",
       "23                                         [Bartholomew]   \n",
       "26     [Shelton is in Fairfield County, Connecticut, ...   \n",
       "42                                     [Pinellas County]   \n",
       "...                                                  ...   \n",
       "14872                                              [Yes]   \n",
       "14945                                 [Allegheny County]   \n",
       "14947                                    [Jasper County]   \n",
       "14959                               [No Answer Present.]   \n",
       "14981  [Bokoni Platinum Mines is located at Off r37 H...   \n",
       "\n",
       "                                       wellFormedAnswers  \n",
       "5                                                     []  \n",
       "18                                                    []  \n",
       "23           [Columbus is a city in Bartholomew County.]  \n",
       "26                                                    []  \n",
       "42            [Seminole, Florida is in Pinellas County.]  \n",
       "...                                                  ...  \n",
       "14872                                                 []  \n",
       "14945                                                 []  \n",
       "14947  [Louin is located in Jasper County, Mississippi.]  \n",
       "14959                                                 []  \n",
       "14981                                                 []  \n",
       "\n",
       "[632 rows x 3 columns]"
      ]
     },
     "execution_count": 21,
     "metadata": {},
     "output_type": "execute_result"
    }
   ],
   "source": [
    "# query type: LOCATION\n",
    "train_df.query(\"query_type == 'LOCATION'\")[['query', 'answers', 'wellFormedAnswers']]"
   ]
  },
  {
   "cell_type": "code",
   "execution_count": 22,
   "metadata": {},
   "outputs": [
    {
     "data": {
      "text/html": [
       "<div>\n",
       "<style scoped>\n",
       "    .dataframe tbody tr th:only-of-type {\n",
       "        vertical-align: middle;\n",
       "    }\n",
       "\n",
       "    .dataframe tbody tr th {\n",
       "        vertical-align: top;\n",
       "    }\n",
       "\n",
       "    .dataframe thead th {\n",
       "        text-align: right;\n",
       "    }\n",
       "</style>\n",
       "<table border=\"1\" class=\"dataframe\">\n",
       "  <thead>\n",
       "    <tr style=\"text-align: right;\">\n",
       "      <th></th>\n",
       "      <th>query</th>\n",
       "      <th>answers</th>\n",
       "      <th>wellFormedAnswers</th>\n",
       "    </tr>\n",
       "  </thead>\n",
       "  <tbody>\n",
       "    <tr>\n",
       "      <th>6</th>\n",
       "      <td>nyu tuition cost</td>\n",
       "      <td>[$43,746 for the 2014-2015 academic year.]</td>\n",
       "      <td>[]</td>\n",
       "    </tr>\n",
       "    <tr>\n",
       "      <th>7</th>\n",
       "      <td>at what age do kids start to hold memories</td>\n",
       "      <td>[Before the age of 2–4 years.]</td>\n",
       "      <td>[]</td>\n",
       "    </tr>\n",
       "    <tr>\n",
       "      <th>8</th>\n",
       "      <td>average teeth brushing time</td>\n",
       "      <td>[Americans brush for just under the two minute...</td>\n",
       "      <td>[]</td>\n",
       "    </tr>\n",
       "    <tr>\n",
       "      <th>12</th>\n",
       "      <td>artin chicken mcdonalds calories</td>\n",
       "      <td>[No Answer Present.]</td>\n",
       "      <td>[]</td>\n",
       "    </tr>\n",
       "    <tr>\n",
       "      <th>15</th>\n",
       "      <td>sum of squares of even numbers formula</td>\n",
       "      <td>[No Answer Present.]</td>\n",
       "      <td>[]</td>\n",
       "    </tr>\n",
       "    <tr>\n",
       "      <th>...</th>\n",
       "      <td>...</td>\n",
       "      <td>...</td>\n",
       "      <td>...</td>\n",
       "    </tr>\n",
       "    <tr>\n",
       "      <th>14971</th>\n",
       "      <td>what % of your body weight should be water</td>\n",
       "      <td>[The amount of water in the human body ranges ...</td>\n",
       "      <td>[]</td>\n",
       "    </tr>\n",
       "    <tr>\n",
       "      <th>14972</th>\n",
       "      <td>how much caffeine is in green coffee</td>\n",
       "      <td>[20 mg]</td>\n",
       "      <td>[There is 20 mg of caffeine in green coffee.]</td>\n",
       "    </tr>\n",
       "    <tr>\n",
       "      <th>14975</th>\n",
       "      <td>how far is secrets punta cana from the airport</td>\n",
       "      <td>[No Answer Present.]</td>\n",
       "      <td>[]</td>\n",
       "    </tr>\n",
       "    <tr>\n",
       "      <th>14986</th>\n",
       "      <td>planting distance for blue plumbago</td>\n",
       "      <td>[36 to 60 inches apart]</td>\n",
       "      <td>[The planting distance for blue plumbago 36 to...</td>\n",
       "    </tr>\n",
       "    <tr>\n",
       "      <th>14993</th>\n",
       "      <td>net salary formula</td>\n",
       "      <td>[No Answer Present.]</td>\n",
       "      <td>[]</td>\n",
       "    </tr>\n",
       "  </tbody>\n",
       "</table>\n",
       "<p>3232 rows × 3 columns</p>\n",
       "</div>"
      ],
      "text/plain": [
       "                                                query  \\\n",
       "6                                    nyu tuition cost   \n",
       "7          at what age do kids start to hold memories   \n",
       "8                         average teeth brushing time   \n",
       "12                   artin chicken mcdonalds calories   \n",
       "15             sum of squares of even numbers formula   \n",
       "...                                               ...   \n",
       "14971      what % of your body weight should be water   \n",
       "14972            how much caffeine is in green coffee   \n",
       "14975  how far is secrets punta cana from the airport   \n",
       "14986             planting distance for blue plumbago   \n",
       "14993                              net salary formula   \n",
       "\n",
       "                                                 answers  \\\n",
       "6             [$43,746 for the 2014-2015 academic year.]   \n",
       "7                         [Before the age of 2–4 years.]   \n",
       "8      [Americans brush for just under the two minute...   \n",
       "12                                  [No Answer Present.]   \n",
       "15                                  [No Answer Present.]   \n",
       "...                                                  ...   \n",
       "14971  [The amount of water in the human body ranges ...   \n",
       "14972                                            [20 mg]   \n",
       "14975                               [No Answer Present.]   \n",
       "14986                            [36 to 60 inches apart]   \n",
       "14993                               [No Answer Present.]   \n",
       "\n",
       "                                       wellFormedAnswers  \n",
       "6                                                     []  \n",
       "7                                                     []  \n",
       "8                                                     []  \n",
       "12                                                    []  \n",
       "15                                                    []  \n",
       "...                                                  ...  \n",
       "14971                                                 []  \n",
       "14972      [There is 20 mg of caffeine in green coffee.]  \n",
       "14975                                                 []  \n",
       "14986  [The planting distance for blue plumbago 36 to...  \n",
       "14993                                                 []  \n",
       "\n",
       "[3232 rows x 3 columns]"
      ]
     },
     "execution_count": 22,
     "metadata": {},
     "output_type": "execute_result"
    }
   ],
   "source": [
    "# query type: NUMERIC\n",
    "train_df.query(\"query_type == 'NUMERIC'\")[['query', 'answers', 'wellFormedAnswers']]"
   ]
  },
  {
   "cell_type": "code",
   "execution_count": 23,
   "metadata": {},
   "outputs": [
    {
     "data": {
      "text/html": [
       "<div>\n",
       "<style scoped>\n",
       "    .dataframe tbody tr th:only-of-type {\n",
       "        vertical-align: middle;\n",
       "    }\n",
       "\n",
       "    .dataframe tbody tr th {\n",
       "        vertical-align: top;\n",
       "    }\n",
       "\n",
       "    .dataframe thead th {\n",
       "        text-align: right;\n",
       "    }\n",
       "</style>\n",
       "<table border=\"1\" class=\"dataframe\">\n",
       "  <thead>\n",
       "    <tr style=\"text-align: right;\">\n",
       "      <th></th>\n",
       "      <th>query</th>\n",
       "      <th>answers</th>\n",
       "      <th>wellFormedAnswers</th>\n",
       "    </tr>\n",
       "  </thead>\n",
       "  <tbody>\n",
       "    <tr>\n",
       "      <th>21</th>\n",
       "      <td>what is early bird check in southwest</td>\n",
       "      <td>[It allows passengers to check-in to a flight ...</td>\n",
       "      <td>[]</td>\n",
       "    </tr>\n",
       "    <tr>\n",
       "      <th>46</th>\n",
       "      <td>what is home food store</td>\n",
       "      <td>[No Answer Present.]</td>\n",
       "      <td>[]</td>\n",
       "    </tr>\n",
       "    <tr>\n",
       "      <th>60</th>\n",
       "      <td>is the cheetah an endangered species</td>\n",
       "      <td>[Yes, Cheetah is considered Endangered species.]</td>\n",
       "      <td>[]</td>\n",
       "    </tr>\n",
       "    <tr>\n",
       "      <th>69</th>\n",
       "      <td>Niegerian Prophet turns into a snake in church...</td>\n",
       "      <td>[No Answer Present.]</td>\n",
       "      <td>[]</td>\n",
       "    </tr>\n",
       "    <tr>\n",
       "      <th>72</th>\n",
       "      <td>what are signs of ulcers in equine</td>\n",
       "      <td>[No Answer Present.]</td>\n",
       "      <td>[]</td>\n",
       "    </tr>\n",
       "    <tr>\n",
       "      <th>...</th>\n",
       "      <td>...</td>\n",
       "      <td>...</td>\n",
       "      <td>...</td>\n",
       "    </tr>\n",
       "    <tr>\n",
       "      <th>14952</th>\n",
       "      <td>what dog breed is kevin in the movie the proposal</td>\n",
       "      <td>[No Answer Present.]</td>\n",
       "      <td>[]</td>\n",
       "    </tr>\n",
       "    <tr>\n",
       "      <th>14955</th>\n",
       "      <td>hay fever mouth</td>\n",
       "      <td>[The symptoms of hay fever include frequent sn...</td>\n",
       "      <td>[]</td>\n",
       "    </tr>\n",
       "    <tr>\n",
       "      <th>14958</th>\n",
       "      <td>international home foods inc</td>\n",
       "      <td>[It was an American manufacturer, distributor ...</td>\n",
       "      <td>[]</td>\n",
       "    </tr>\n",
       "    <tr>\n",
       "      <th>14995</th>\n",
       "      <td>what is a traditional breakfast food in chile</td>\n",
       "      <td>[Fresh bread (pan amasado) with fruit jellies ...</td>\n",
       "      <td>[]</td>\n",
       "    </tr>\n",
       "    <tr>\n",
       "      <th>14996</th>\n",
       "      <td>what are the colors of a croton flower</td>\n",
       "      <td>[Originally croton leaves are green, but it ch...</td>\n",
       "      <td>[]</td>\n",
       "    </tr>\n",
       "  </tbody>\n",
       "</table>\n",
       "<p>1392 rows × 3 columns</p>\n",
       "</div>"
      ],
      "text/plain": [
       "                                                   query  \\\n",
       "21                 what is early bird check in southwest   \n",
       "46                               what is home food store   \n",
       "60                  is the cheetah an endangered species   \n",
       "69     Niegerian Prophet turns into a snake in church...   \n",
       "72                    what are signs of ulcers in equine   \n",
       "...                                                  ...   \n",
       "14952  what dog breed is kevin in the movie the proposal   \n",
       "14955                                    hay fever mouth   \n",
       "14958                       international home foods inc   \n",
       "14995      what is a traditional breakfast food in chile   \n",
       "14996             what are the colors of a croton flower   \n",
       "\n",
       "                                                 answers wellFormedAnswers  \n",
       "21     [It allows passengers to check-in to a flight ...                []  \n",
       "46                                  [No Answer Present.]                []  \n",
       "60      [Yes, Cheetah is considered Endangered species.]                []  \n",
       "69                                  [No Answer Present.]                []  \n",
       "72                                  [No Answer Present.]                []  \n",
       "...                                                  ...               ...  \n",
       "14952                               [No Answer Present.]                []  \n",
       "14955  [The symptoms of hay fever include frequent sn...                []  \n",
       "14958  [It was an American manufacturer, distributor ...                []  \n",
       "14995  [Fresh bread (pan amasado) with fruit jellies ...                []  \n",
       "14996  [Originally croton leaves are green, but it ch...                []  \n",
       "\n",
       "[1392 rows x 3 columns]"
      ]
     },
     "execution_count": 23,
     "metadata": {},
     "output_type": "execute_result"
    }
   ],
   "source": [
    "# query type: ENTITY\n",
    "train_df.query(\"query_type == 'ENTITY'\")[['query', 'answers', 'wellFormedAnswers']]"
   ]
  },
  {
   "cell_type": "code",
   "execution_count": 24,
   "metadata": {},
   "outputs": [
    {
     "data": {
      "text/html": [
       "<div>\n",
       "<style scoped>\n",
       "    .dataframe tbody tr th:only-of-type {\n",
       "        vertical-align: middle;\n",
       "    }\n",
       "\n",
       "    .dataframe tbody tr th {\n",
       "        vertical-align: top;\n",
       "    }\n",
       "\n",
       "    .dataframe thead th {\n",
       "        text-align: right;\n",
       "    }\n",
       "</style>\n",
       "<table border=\"1\" class=\"dataframe\">\n",
       "  <thead>\n",
       "    <tr style=\"text-align: right;\">\n",
       "      <th></th>\n",
       "      <th>query</th>\n",
       "      <th>answers</th>\n",
       "      <th>wellFormedAnswers</th>\n",
       "    </tr>\n",
       "  </thead>\n",
       "  <tbody>\n",
       "    <tr>\n",
       "      <th>56</th>\n",
       "      <td>was the president of morehouse college recentl...</td>\n",
       "      <td>[No Answer Present.]</td>\n",
       "      <td>[]</td>\n",
       "    </tr>\n",
       "    <tr>\n",
       "      <th>106</th>\n",
       "      <td>most romantic hotels in bahamas</td>\n",
       "      <td>[No Answer Present.]</td>\n",
       "      <td>[]</td>\n",
       "    </tr>\n",
       "    <tr>\n",
       "      <th>139</th>\n",
       "      <td>the place beyond the pines cast</td>\n",
       "      <td>[It is actually the Native American meaning to...</td>\n",
       "      <td>[]</td>\n",
       "    </tr>\n",
       "    <tr>\n",
       "      <th>141</th>\n",
       "      <td>largest active military</td>\n",
       "      <td>[China]</td>\n",
       "      <td>[China has the largest active military.]</td>\n",
       "    </tr>\n",
       "    <tr>\n",
       "      <th>346</th>\n",
       "      <td>the incredible hulk.  actor</td>\n",
       "      <td>[Yes]</td>\n",
       "      <td>[]</td>\n",
       "    </tr>\n",
       "    <tr>\n",
       "      <th>...</th>\n",
       "      <td>...</td>\n",
       "      <td>...</td>\n",
       "      <td>...</td>\n",
       "    </tr>\n",
       "    <tr>\n",
       "      <th>14798</th>\n",
       "      <td>cast of haven season 5 episode 8</td>\n",
       "      <td>[No Answer Present.]</td>\n",
       "      <td>[]</td>\n",
       "    </tr>\n",
       "    <tr>\n",
       "      <th>14819</th>\n",
       "      <td>longest man space flight</td>\n",
       "      <td>[Valeri Polyakov]</td>\n",
       "      <td>[Valeri Polyakov has been longest man in space...</td>\n",
       "    </tr>\n",
       "    <tr>\n",
       "      <th>14867</th>\n",
       "      <td>what channel is nfl network</td>\n",
       "      <td>[An American sports-oriented cable.]</td>\n",
       "      <td>[]</td>\n",
       "    </tr>\n",
       "    <tr>\n",
       "      <th>14890</th>\n",
       "      <td>what committees is kathy lohmer on</td>\n",
       "      <td>[Health and Human Services Policy Health and H...</td>\n",
       "      <td>[]</td>\n",
       "    </tr>\n",
       "    <tr>\n",
       "      <th>14940</th>\n",
       "      <td>the duty for norwegian american hospital for u...</td>\n",
       "      <td>[No Answer Present.]</td>\n",
       "      <td>[]</td>\n",
       "    </tr>\n",
       "  </tbody>\n",
       "</table>\n",
       "<p>400 rows × 3 columns</p>\n",
       "</div>"
      ],
      "text/plain": [
       "                                                   query  \\\n",
       "56     was the president of morehouse college recentl...   \n",
       "106                      most romantic hotels in bahamas   \n",
       "139                      the place beyond the pines cast   \n",
       "141                              largest active military   \n",
       "346                          the incredible hulk.  actor   \n",
       "...                                                  ...   \n",
       "14798                   cast of haven season 5 episode 8   \n",
       "14819                           longest man space flight   \n",
       "14867                        what channel is nfl network   \n",
       "14890                 what committees is kathy lohmer on   \n",
       "14940  the duty for norwegian american hospital for u...   \n",
       "\n",
       "                                                 answers  \\\n",
       "56                                  [No Answer Present.]   \n",
       "106                                 [No Answer Present.]   \n",
       "139    [It is actually the Native American meaning to...   \n",
       "141                                              [China]   \n",
       "346                                                [Yes]   \n",
       "...                                                  ...   \n",
       "14798                               [No Answer Present.]   \n",
       "14819                                  [Valeri Polyakov]   \n",
       "14867               [An American sports-oriented cable.]   \n",
       "14890  [Health and Human Services Policy Health and H...   \n",
       "14940                               [No Answer Present.]   \n",
       "\n",
       "                                       wellFormedAnswers  \n",
       "56                                                    []  \n",
       "106                                                   []  \n",
       "139                                                   []  \n",
       "141             [China has the largest active military.]  \n",
       "346                                                   []  \n",
       "...                                                  ...  \n",
       "14798                                                 []  \n",
       "14819  [Valeri Polyakov has been longest man in space...  \n",
       "14867                                                 []  \n",
       "14890                                                 []  \n",
       "14940                                                 []  \n",
       "\n",
       "[400 rows x 3 columns]"
      ]
     },
     "execution_count": 24,
     "metadata": {},
     "output_type": "execute_result"
    }
   ],
   "source": [
    "# query type: PERSON\n",
    "train_df.query(\"query_type == 'PERSON'\")[['query', 'answers', 'wellFormedAnswers']]"
   ]
  },
  {
   "cell_type": "markdown",
   "metadata": {},
   "source": [
    "#### Passages"
   ]
  },
  {
   "cell_type": "code",
   "execution_count": 25,
   "metadata": {},
   "outputs": [
    {
     "data": {
      "text/plain": [
       "{'is_selected': array([1, 0, 0, 0, 0, 0, 0, 0, 0, 0], dtype=int32),\n",
       " 'passage_text': array(['The presence of communication amid scientific minds was equally important to the success of the Manhattan Project as scientific intellect was. The only cloud hanging over the impressive achievement of the atomic researchers and engineers is what their success truly meant; hundreds of thousands of innocent lives obliterated.',\n",
       "        'The Manhattan Project and its atomic bomb helped bring an end to World War II. Its legacy of peaceful uses of atomic energy continues to have an impact on history and science.',\n",
       "        'Essay on The Manhattan Project - The Manhattan Project The Manhattan Project was to see if making an atomic bomb possible. The success of this project would forever change the world forever making it known that something this powerful can be manmade.',\n",
       "        'The Manhattan Project was the name for a project conducted during World War II, to develop the first atomic bomb. It refers specifically to the period of the project from 194 … 2-1946 under the control of the U.S. Army Corps of Engineers, under the administration of General Leslie R. Groves.',\n",
       "        'versions of each volume as well as complementary websites. The first website–The Manhattan Project: An Interactive History–is available on the Office of History and Heritage Resources website, http://www.cfo. doe.gov/me70/history. The Office of History and Heritage Resources and the National Nuclear Security',\n",
       "        'The Manhattan Project. This once classified photograph features the first atomic bomb — a weapon that atomic scientists had nicknamed Gadget.. The nuclear age began on July 16, 1945, when it was detonated in the New Mexico desert.',\n",
       "        'Nor will it attempt to substitute for the extraordinarily rich literature on the atomic bombs and the end of World War II. This collection does not attempt to document the origins and development of the Manhattan Project.',\n",
       "        'Manhattan Project. The Manhattan Project was a research and development undertaking during World War II that produced the first nuclear weapons. It was led by the United States with the support of the United Kingdom and Canada. From 1942 to 1946, the project was under the direction of Major General Leslie Groves of the U.S. Army Corps of Engineers. Nuclear physicist Robert Oppenheimer was the director of the Los Alamos Laboratory that designed the actual bombs. The Army component of the project was designated the',\n",
       "        'In June 1942, the United States Army Corps of Engineersbegan the Manhattan Project- The secret name for the 2 atomic bombs.',\n",
       "        \"One of the main reasons Hanford was selected as a site for the Manhattan Project's B Reactor was its proximity to the Columbia River, the largest river flowing into the Pacific Ocean from the North American coast.\"],\n",
       "       dtype=object),\n",
       " 'url': array(['http://www.pitt.edu/~sdb14/atombomb.html',\n",
       "        'http://www.osti.gov/accomplishments/manhattan_story.html',\n",
       "        'http://www.123helpme.com/impact-of-the-manhattan-project-preview.asp?id=177337',\n",
       "        'http://www.answers.com/Q/How_did_the_Manhattan_Project_impact_on_society',\n",
       "        'https://www.osti.gov/manhattan-project-history/publications/Manhattan_Project_2010.pdf',\n",
       "        'http://www.ushistory.org/us/51f.asp',\n",
       "        'http://nsarchive.gwu.edu/NSAEBB/NSAEBB162',\n",
       "        'https://en.wikipedia.org/wiki/Manhattan_Project',\n",
       "        'https://quizlet.com/41456230/a-bomb-flash-cards/',\n",
       "        'https://www.atomicheritage.org/history/environmental-consequences'],\n",
       "       dtype=object)}"
      ]
     },
     "execution_count": 25,
     "metadata": {},
     "output_type": "execute_result"
    }
   ],
   "source": [
    "train_df['passages'][0]"
   ]
  },
  {
   "cell_type": "code",
   "execution_count": 26,
   "metadata": {},
   "outputs": [
    {
     "data": {
      "text/plain": [
       "array(['The presence of communication amid scientific minds was equally important to the success of the Manhattan Project as scientific intellect was. The only cloud hanging over the impressive achievement of the atomic researchers and engineers is what their success truly meant; hundreds of thousands of innocent lives obliterated.',\n",
       "       'The Manhattan Project and its atomic bomb helped bring an end to World War II. Its legacy of peaceful uses of atomic energy continues to have an impact on history and science.',\n",
       "       'Essay on The Manhattan Project - The Manhattan Project The Manhattan Project was to see if making an atomic bomb possible. The success of this project would forever change the world forever making it known that something this powerful can be manmade.',\n",
       "       'The Manhattan Project was the name for a project conducted during World War II, to develop the first atomic bomb. It refers specifically to the period of the project from 194 … 2-1946 under the control of the U.S. Army Corps of Engineers, under the administration of General Leslie R. Groves.',\n",
       "       'versions of each volume as well as complementary websites. The first website–The Manhattan Project: An Interactive History–is available on the Office of History and Heritage Resources website, http://www.cfo. doe.gov/me70/history. The Office of History and Heritage Resources and the National Nuclear Security',\n",
       "       'The Manhattan Project. This once classified photograph features the first atomic bomb — a weapon that atomic scientists had nicknamed Gadget.. The nuclear age began on July 16, 1945, when it was detonated in the New Mexico desert.',\n",
       "       'Nor will it attempt to substitute for the extraordinarily rich literature on the atomic bombs and the end of World War II. This collection does not attempt to document the origins and development of the Manhattan Project.',\n",
       "       'Manhattan Project. The Manhattan Project was a research and development undertaking during World War II that produced the first nuclear weapons. It was led by the United States with the support of the United Kingdom and Canada. From 1942 to 1946, the project was under the direction of Major General Leslie Groves of the U.S. Army Corps of Engineers. Nuclear physicist Robert Oppenheimer was the director of the Los Alamos Laboratory that designed the actual bombs. The Army component of the project was designated the',\n",
       "       'In June 1942, the United States Army Corps of Engineersbegan the Manhattan Project- The secret name for the 2 atomic bombs.',\n",
       "       \"One of the main reasons Hanford was selected as a site for the Manhattan Project's B Reactor was its proximity to the Columbia River, the largest river flowing into the Pacific Ocean from the North American coast.\"],\n",
       "      dtype=object)"
      ]
     },
     "execution_count": 26,
     "metadata": {},
     "output_type": "execute_result"
    }
   ],
   "source": [
    "train_df['passages'][0]['passage_text']"
   ]
  },
  {
   "cell_type": "markdown",
   "metadata": {},
   "source": [
    "### Missing Data\n",
    "Based on the above exploration of the dataset, we can see that some of the queries don't have answers. Let's see how many don't have an answer."
   ]
  },
  {
   "cell_type": "code",
   "execution_count": 27,
   "metadata": {},
   "outputs": [
    {
     "data": {
      "text/plain": [
       "pandas.core.series.Series"
      ]
     },
     "execution_count": 27,
     "metadata": {},
     "output_type": "execute_result"
    }
   ],
   "source": [
    "type(train_df['answers'])"
   ]
  },
  {
   "cell_type": "code",
   "execution_count": 28,
   "metadata": {},
   "outputs": [
    {
     "data": {
      "text/plain": [
       "numpy.ndarray"
      ]
     },
     "execution_count": 28,
     "metadata": {},
     "output_type": "execute_result"
    }
   ],
   "source": [
    "type(train_df['answers'][0])"
   ]
  },
  {
   "cell_type": "code",
   "execution_count": 29,
   "metadata": {},
   "outputs": [
    {
     "data": {
      "text/plain": [
       "array(['The immediate impact of the success of the manhattan project was the only cloud hanging over the impressive achievement of the atomic researchers and engineers is what their success truly meant; hundreds of thousands of innocent lives obliterated.'],\n",
       "      dtype=object)"
      ]
     },
     "execution_count": 29,
     "metadata": {},
     "output_type": "execute_result"
    }
   ],
   "source": [
    "train_df['answers'][0]"
   ]
  },
  {
   "cell_type": "code",
   "execution_count": 30,
   "metadata": {},
   "outputs": [
    {
     "data": {
      "text/plain": [
       "'The immediate impact of the success of the manhattan project was the only cloud hanging over the impressive achievement of the atomic researchers and engineers is what their success truly meant; hundreds of thousands of innocent lives obliterated.'"
      ]
     },
     "execution_count": 30,
     "metadata": {},
     "output_type": "execute_result"
    }
   ],
   "source": [
    "train_df['answers'][0][0]"
   ]
  },
  {
   "cell_type": "code",
   "execution_count": 31,
   "metadata": {},
   "outputs": [
    {
     "data": {
      "text/plain": [
       "array(['No Answer Present.'], dtype=object)"
      ]
     },
     "execution_count": 31,
     "metadata": {},
     "output_type": "execute_result"
    }
   ],
   "source": [
    "train_df['answers'][14999]"
   ]
  },
  {
   "cell_type": "code",
   "execution_count": 32,
   "metadata": {},
   "outputs": [
    {
     "data": {
      "text/html": [
       "<div>\n",
       "<style scoped>\n",
       "    .dataframe tbody tr th:only-of-type {\n",
       "        vertical-align: middle;\n",
       "    }\n",
       "\n",
       "    .dataframe tbody tr th {\n",
       "        vertical-align: top;\n",
       "    }\n",
       "\n",
       "    .dataframe thead th {\n",
       "        text-align: right;\n",
       "    }\n",
       "</style>\n",
       "<table border=\"1\" class=\"dataframe\">\n",
       "  <thead>\n",
       "    <tr style=\"text-align: right;\">\n",
       "      <th></th>\n",
       "      <th>answers</th>\n",
       "      <th>passages</th>\n",
       "      <th>query</th>\n",
       "      <th>query_id</th>\n",
       "      <th>query_type</th>\n",
       "      <th>wellFormedAnswers</th>\n",
       "    </tr>\n",
       "  </thead>\n",
       "  <tbody>\n",
       "    <tr>\n",
       "      <th>5</th>\n",
       "      <td>[No Answer Present.]</td>\n",
       "      <td>{'is_selected': [0, 0, 0, 0, 0, 0, 0, 0, 0, 0]...</td>\n",
       "      <td>is the atlanta airport the busiest in the world</td>\n",
       "      <td>1174762</td>\n",
       "      <td>LOCATION</td>\n",
       "      <td>[]</td>\n",
       "    </tr>\n",
       "    <tr>\n",
       "      <th>10</th>\n",
       "      <td>[No Answer Present.]</td>\n",
       "      <td>{'is_selected': [0, 0, 0, 0, 0, 0, 0, 0, 0, 0]...</td>\n",
       "      <td>what direction does phloem flow</td>\n",
       "      <td>620830</td>\n",
       "      <td>DESCRIPTION</td>\n",
       "      <td>[]</td>\n",
       "    </tr>\n",
       "    <tr>\n",
       "      <th>12</th>\n",
       "      <td>[No Answer Present.]</td>\n",
       "      <td>{'is_selected': [0, 0, 0, 0, 0, 0, 0, 0, 0, 0]...</td>\n",
       "      <td>artin chicken mcdonalds calories</td>\n",
       "      <td>27022</td>\n",
       "      <td>NUMERIC</td>\n",
       "      <td>[]</td>\n",
       "    </tr>\n",
       "    <tr>\n",
       "      <th>13</th>\n",
       "      <td>[No Answer Present.]</td>\n",
       "      <td>{'is_selected': [0, 0, 0, 0, 0, 0, 0, 0, 0, 0]...</td>\n",
       "      <td>is panglao island safe</td>\n",
       "      <td>420332</td>\n",
       "      <td>DESCRIPTION</td>\n",
       "      <td>[]</td>\n",
       "    </tr>\n",
       "    <tr>\n",
       "      <th>14</th>\n",
       "      <td>[No Answer Present.]</td>\n",
       "      <td>{'is_selected': [0, 0, 0, 0, 0, 0, 0, 0, 0, 0]...</td>\n",
       "      <td>what is calomel powder used for?</td>\n",
       "      <td>727194</td>\n",
       "      <td>DESCRIPTION</td>\n",
       "      <td>[]</td>\n",
       "    </tr>\n",
       "  </tbody>\n",
       "</table>\n",
       "</div>"
      ],
      "text/plain": [
       "                 answers                                           passages  \\\n",
       "5   [No Answer Present.]  {'is_selected': [0, 0, 0, 0, 0, 0, 0, 0, 0, 0]...   \n",
       "10  [No Answer Present.]  {'is_selected': [0, 0, 0, 0, 0, 0, 0, 0, 0, 0]...   \n",
       "12  [No Answer Present.]  {'is_selected': [0, 0, 0, 0, 0, 0, 0, 0, 0, 0]...   \n",
       "13  [No Answer Present.]  {'is_selected': [0, 0, 0, 0, 0, 0, 0, 0, 0, 0]...   \n",
       "14  [No Answer Present.]  {'is_selected': [0, 0, 0, 0, 0, 0, 0, 0, 0, 0]...   \n",
       "\n",
       "                                              query  query_id   query_type  \\\n",
       "5   is the atlanta airport the busiest in the world   1174762     LOCATION   \n",
       "10                  what direction does phloem flow    620830  DESCRIPTION   \n",
       "12                 artin chicken mcdonalds calories     27022      NUMERIC   \n",
       "13                           is panglao island safe    420332  DESCRIPTION   \n",
       "14                 what is calomel powder used for?    727194  DESCRIPTION   \n",
       "\n",
       "   wellFormedAnswers  \n",
       "5                 []  \n",
       "10                []  \n",
       "12                []  \n",
       "13                []  \n",
       "14                []  "
      ]
     },
     "execution_count": 32,
     "metadata": {},
     "output_type": "execute_result"
    }
   ],
   "source": [
    "no_answer_records = train_df.query(\"answers in 'No Answer Present.'\")\n",
    "no_answer_records[:5]"
   ]
  },
  {
   "cell_type": "code",
   "execution_count": 33,
   "metadata": {},
   "outputs": [
    {
     "data": {
      "text/plain": [
       "5853"
      ]
     },
     "execution_count": 33,
     "metadata": {},
     "output_type": "execute_result"
    }
   ],
   "source": [
    "len(no_answer_records)"
   ]
  },
  {
   "cell_type": "markdown",
   "metadata": {},
   "source": [
    "There are a total of 5 thousand for which the answer is not present. This is about one third of the entire training data. In case the model is not able to answer questions, we can consider retraining it with more data from the MS Marco dataset."
   ]
  },
  {
   "cell_type": "markdown",
   "metadata": {},
   "source": [
    "## Preprocess Data"
   ]
  },
  {
   "cell_type": "code",
   "execution_count": 34,
   "metadata": {},
   "outputs": [],
   "source": [
    "from transformers import AutoTokenizer"
   ]
  },
  {
   "cell_type": "code",
   "execution_count": 35,
   "metadata": {},
   "outputs": [],
   "source": [
    "# converting the passage from the dictionary to a string value\n",
    "train_df['passage_text'] = train_df['passages'].apply(lambda x: x['passage_text'])\n",
    "\n",
    "# Make sure all elements are strings\n",
    "train_df['passage_text'] = [str(text) for text in train_df['passage_text']]"
   ]
  },
  {
   "cell_type": "code",
   "execution_count": 37,
   "metadata": {},
   "outputs": [],
   "source": [
    "# using the DistilBERT model so that we can fine tune the retrieval component\n",
    "tokenizer = AutoTokenizer.from_pretrained(\"distilbert-base-uncased\")\n",
    "\n",
    "\n",
    "# tokenizing the passages from the 'passage' column for the 'passage_text' key \n",
    "tokenized_passages = tokenizer(train_df['passage_text'].to_list(),\n",
    "                                max_length=128, \n",
    "                                truncation=True, \n",
    "                                padding=True,\n",
    "                                return_tensors=\"pt\"\n",
    "                                )"
   ]
  },
  {
   "cell_type": "code",
   "execution_count": 38,
   "metadata": {},
   "outputs": [
    {
     "data": {
      "text/plain": [
       "{'input_ids': tensor([[ 101, 1031, 1005,  ..., 2088, 5091,  102],\n",
       "        [ 101, 1031, 1005,  ..., 2008, 2421,  102],\n",
       "        [ 101, 1031, 1005,  ..., 2981, 1999,  102],\n",
       "        ...,\n",
       "        [ 101, 1031, 1005,  ..., 1006, 2006,  102],\n",
       "        [ 101, 1031, 1005,  ..., 2171, 1999,  102],\n",
       "        [ 101, 1031, 1005,  ..., 2024, 4321,  102]]), 'attention_mask': tensor([[1, 1, 1,  ..., 1, 1, 1],\n",
       "        [1, 1, 1,  ..., 1, 1, 1],\n",
       "        [1, 1, 1,  ..., 1, 1, 1],\n",
       "        ...,\n",
       "        [1, 1, 1,  ..., 1, 1, 1],\n",
       "        [1, 1, 1,  ..., 1, 1, 1],\n",
       "        [1, 1, 1,  ..., 1, 1, 1]])}"
      ]
     },
     "execution_count": 38,
     "metadata": {},
     "output_type": "execute_result"
    }
   ],
   "source": [
    "tokenized_passages"
   ]
  },
  {
   "cell_type": "code",
   "execution_count": 42,
   "metadata": {},
   "outputs": [
    {
     "data": {
      "text/html": [
       "<div>\n",
       "<style scoped>\n",
       "    .dataframe tbody tr th:only-of-type {\n",
       "        vertical-align: middle;\n",
       "    }\n",
       "\n",
       "    .dataframe tbody tr th {\n",
       "        vertical-align: top;\n",
       "    }\n",
       "\n",
       "    .dataframe thead th {\n",
       "        text-align: right;\n",
       "    }\n",
       "</style>\n",
       "<table border=\"1\" class=\"dataframe\">\n",
       "  <thead>\n",
       "    <tr style=\"text-align: right;\">\n",
       "      <th></th>\n",
       "      <th>query</th>\n",
       "      <th>answers</th>\n",
       "    </tr>\n",
       "  </thead>\n",
       "  <tbody>\n",
       "    <tr>\n",
       "      <th>0</th>\n",
       "      <td>)what was the immediate impact of the success ...</td>\n",
       "      <td>[The immediate impact of the success of the ma...</td>\n",
       "    </tr>\n",
       "    <tr>\n",
       "      <th>1</th>\n",
       "      <td>_________ justice is designed to repair the ha...</td>\n",
       "      <td>[Restorative justice that fosters dialogue bet...</td>\n",
       "    </tr>\n",
       "    <tr>\n",
       "      <th>2</th>\n",
       "      <td>why did stalin want control of eastern europe</td>\n",
       "      <td>[The reasons why Stalin wanted to control East...</td>\n",
       "    </tr>\n",
       "    <tr>\n",
       "      <th>3</th>\n",
       "      <td>why do nails get rusty</td>\n",
       "      <td>[Nails rust in water because water allows the ...</td>\n",
       "    </tr>\n",
       "    <tr>\n",
       "      <th>4</th>\n",
       "      <td>depona ab</td>\n",
       "      <td>[Depona Ab is a library in Vilhelmina, Sweden.]</td>\n",
       "    </tr>\n",
       "  </tbody>\n",
       "</table>\n",
       "</div>"
      ],
      "text/plain": [
       "                                               query  \\\n",
       "0  )what was the immediate impact of the success ...   \n",
       "1  _________ justice is designed to repair the ha...   \n",
       "2      why did stalin want control of eastern europe   \n",
       "3                             why do nails get rusty   \n",
       "4                                          depona ab   \n",
       "\n",
       "                                             answers  \n",
       "0  [The immediate impact of the success of the ma...  \n",
       "1  [Restorative justice that fosters dialogue bet...  \n",
       "2  [The reasons why Stalin wanted to control East...  \n",
       "3  [Nails rust in water because water allows the ...  \n",
       "4    [Depona Ab is a library in Vilhelmina, Sweden.]  "
      ]
     },
     "execution_count": 42,
     "metadata": {},
     "output_type": "execute_result"
    }
   ],
   "source": [
    "train_df[['query', 'answers']].head(5)"
   ]
  }
 ],
 "metadata": {
  "kernelspec": {
   "display_name": "csye7230",
   "language": "python",
   "name": "python3"
  },
  "language_info": {
   "codemirror_mode": {
    "name": "ipython",
    "version": 3
   },
   "file_extension": ".py",
   "mimetype": "text/x-python",
   "name": "python",
   "nbconvert_exporter": "python",
   "pygments_lexer": "ipython3",
   "version": "3.10.16"
  }
 },
 "nbformat": 4,
 "nbformat_minor": 2
}
