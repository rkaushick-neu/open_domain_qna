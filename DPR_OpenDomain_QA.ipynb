{
 "cells": [
  {
   "cell_type": "markdown",
   "metadata": {},
   "source": [
    "# Dense Retrieval Passage for Open Domain Question & Answering\n",
    "Submitted by: Rishabh Kaushick\n",
    "<br>Date: March 16, 2025"
   ]
  },
  {
   "cell_type": "markdown",
   "metadata": {},
   "source": [
    "# 1. Environment Setup"
   ]
  },
  {
   "cell_type": "code",
   "execution_count": null,
   "metadata": {},
   "outputs": [],
   "source": [
    "%pip install --quiet torch transformers faiss-cpu"
   ]
  },
  {
   "cell_type": "code",
   "execution_count": null,
   "metadata": {},
   "outputs": [],
   "source": [
    "# installing datasets (hugging face dataset library)\n",
    "%pip install --quiet datasets"
   ]
  },
  {
   "cell_type": "markdown",
   "metadata": {},
   "source": [
    "Restarting the kernel as suggested."
   ]
  },
  {
   "cell_type": "code",
   "execution_count": 3,
   "metadata": {},
   "outputs": [],
   "source": [
    "%reset"
   ]
  },
  {
   "cell_type": "code",
   "execution_count": 1,
   "metadata": {},
   "outputs": [
    {
     "name": "stderr",
     "output_type": "stream",
     "text": [
      "/opt/homebrew/anaconda3/envs/csye7230/lib/python3.10/site-packages/tqdm/auto.py:21: TqdmWarning: IProgress not found. Please update jupyter and ipywidgets. See https://ipywidgets.readthedocs.io/en/stable/user_install.html\n",
      "  from .autonotebook import tqdm as notebook_tqdm\n"
     ]
    }
   ],
   "source": [
    "import pandas as pd\n",
    "import numpy as np\n",
    "import torch\n",
    "from datasets import load_dataset, load_from_disk\n",
    "import matplotlib.pyplot as plt\n",
    "from transformers import AutoTokenizer, AutoModel, get_linear_schedule_with_warmup\n",
    "import torch.nn as nn\n",
    "import torch.nn.functional as F\n",
    "from torch.nn.utils.rnn import pad_sequence\n",
    "from torch.utils.data import Dataset, DataLoader\n",
    "\n",
    "from tqdm import tqdm\n",
    "import faiss\n",
    "import json\n",
    "import random"
   ]
  },
  {
   "cell_type": "markdown",
   "metadata": {},
   "source": [
    "## CUDA: GPU Availability"
   ]
  },
  {
   "cell_type": "code",
   "execution_count": 2,
   "metadata": {},
   "outputs": [
    {
     "name": "stdout",
     "output_type": "stream",
     "text": [
      "PyTorch version: 2.6.0\n",
      "Is CUDA available: False\n",
      "CUDA is not available. Running on CPU.\n"
     ]
    }
   ],
   "source": [
    " \n",
    "print(f\"PyTorch version: {torch.__version__}\")\n",
    "print(f\"Is CUDA available: {torch.cuda.is_available()}\")\n",
    " \n",
    "if torch.cuda.is_available():\n",
    "    print(f\"CUDA version: {torch.version.cuda}\")\n",
    "    print(f\"cuDNN version: {torch.backends.cudnn.version()}\")\n",
    "    print(f\"cuDNN enabled: {torch.backends.cudnn.enabled}\")\n",
    "    print(f\"GPU Count: {torch.cuda.device_count()}\")\n",
    "    \n",
    "    for i in range(torch.cuda.device_count()):\n",
    "        print(f\"GPU {i}: {torch.cuda.get_device_name(i)}\")\n",
    "        print(f\"Memory Allocated: {torch.cuda.memory_allocated(i) / 1024**2:.2f} MB\")\n",
    "        print(f\"Memory Reserved: {torch.cuda.memory_reserved(i) / 1024**2:.2f} MB\")\n",
    " \n",
    "else:\n",
    "    print(\"CUDA is not available. Running on CPU.\")"
   ]
  },
  {
   "cell_type": "markdown",
   "metadata": {},
   "source": [
    "# 2. Dataset Selection and Exploration (15%)"
   ]
  },
  {
   "cell_type": "markdown",
   "metadata": {},
   "source": [
    "## Loading Dataset (from HuggingFace)"
   ]
  },
  {
   "cell_type": "markdown",
   "metadata": {},
   "source": [
    "### Download Training Set"
   ]
  },
  {
   "cell_type": "code",
   "execution_count": null,
   "metadata": {},
   "outputs": [],
   "source": [
    "dataset = load_dataset(\"ms_marco\", \"v2.1\", split=\"train[:15000]\")"
   ]
  },
  {
   "cell_type": "markdown",
   "metadata": {},
   "source": [
    "### Saving Training Set to Disk"
   ]
  },
  {
   "cell_type": "code",
   "execution_count": null,
   "metadata": {},
   "outputs": [],
   "source": [
    "# need to save the dataset in /data/train\n",
    "dataset.save_to_disk(\"./data/train/ms_marco_15k\")"
   ]
  },
  {
   "cell_type": "markdown",
   "metadata": {},
   "source": [
    "### Loading Train Set from Disk"
   ]
  },
  {
   "cell_type": "code",
   "execution_count": 3,
   "metadata": {},
   "outputs": [],
   "source": [
    "# https://huggingface.co/docs/datasets/v3.3.2/en/package_reference/main_classes#datasets.Dataset.save_to_disk\n",
    "\n",
    "# load the already saved dataset from the disk\n",
    "dataset = load_from_disk(\"./data/train/ms_marco_15k\")"
   ]
  },
  {
   "cell_type": "code",
   "execution_count": 4,
   "metadata": {},
   "outputs": [
    {
     "name": "stdout",
     "output_type": "stream",
     "text": [
      "15000\n"
     ]
    }
   ],
   "source": [
    "print(len(dataset))"
   ]
  },
  {
   "cell_type": "markdown",
   "metadata": {},
   "source": [
    "### Loading & Saving Validation Set"
   ]
  },
  {
   "cell_type": "code",
   "execution_count": 8,
   "metadata": {},
   "outputs": [],
   "source": [
    "validation_dataset = load_dataset(\"ms_marco\", \"v2.1\", split=\"validation[:10000]\")"
   ]
  },
  {
   "cell_type": "code",
   "execution_count": null,
   "metadata": {},
   "outputs": [],
   "source": [
    "# save validation dataset\n",
    "validation_dataset.save_to_disk(\"./data/validation/ms_marco\")"
   ]
  },
  {
   "cell_type": "code",
   "execution_count": 5,
   "metadata": {},
   "outputs": [],
   "source": [
    "validation_dataset = load_from_disk(\"./data/validation/ms_marco\")"
   ]
  },
  {
   "cell_type": "code",
   "execution_count": 6,
   "metadata": {},
   "outputs": [
    {
     "data": {
      "text/plain": [
       "10000"
      ]
     },
     "execution_count": 6,
     "metadata": {},
     "output_type": "execute_result"
    }
   ],
   "source": [
    "len(validation_dataset)"
   ]
  },
  {
   "cell_type": "markdown",
   "metadata": {},
   "source": [
    "### Loading & Saving Test Set"
   ]
  },
  {
   "cell_type": "code",
   "execution_count": 12,
   "metadata": {},
   "outputs": [],
   "source": [
    "test_dataset = load_dataset(\"ms_marco\", \"v2.1\", split=\"test[:10000]\")"
   ]
  },
  {
   "cell_type": "code",
   "execution_count": null,
   "metadata": {},
   "outputs": [],
   "source": [
    "# save test dataset to the disk\n",
    "test_dataset.save_to_disk(\"./data/test/ms_marco\")"
   ]
  },
  {
   "cell_type": "code",
   "execution_count": 7,
   "metadata": {},
   "outputs": [],
   "source": [
    "test_dataset = load_from_disk(\"./data/test/ms_marco\")"
   ]
  },
  {
   "cell_type": "code",
   "execution_count": 8,
   "metadata": {},
   "outputs": [
    {
     "data": {
      "text/plain": [
       "10000"
      ]
     },
     "execution_count": 8,
     "metadata": {},
     "output_type": "execute_result"
    }
   ],
   "source": [
    "len(test_dataset)"
   ]
  },
  {
   "cell_type": "markdown",
   "metadata": {},
   "source": [
    "## Exploratory Data Analysis"
   ]
  },
  {
   "cell_type": "code",
   "execution_count": 9,
   "metadata": {},
   "outputs": [
    {
     "data": {
      "text/plain": [
       "Dataset({\n",
       "    features: ['answers', 'passages', 'query', 'query_id', 'query_type', 'wellFormedAnswers'],\n",
       "    num_rows: 15000\n",
       "})"
      ]
     },
     "execution_count": 9,
     "metadata": {},
     "output_type": "execute_result"
    }
   ],
   "source": [
    "dataset"
   ]
  },
  {
   "cell_type": "code",
   "execution_count": 10,
   "metadata": {},
   "outputs": [
    {
     "data": {
      "text/plain": [
       "datasets.arrow_dataset.Dataset"
      ]
     },
     "execution_count": 10,
     "metadata": {},
     "output_type": "execute_result"
    }
   ],
   "source": [
    "type(dataset)"
   ]
  },
  {
   "cell_type": "markdown",
   "metadata": {},
   "source": [
    "Since the above is a different datatype for the dataset, for convenience, I am converting this to pandas DataFrame."
   ]
  },
  {
   "cell_type": "code",
   "execution_count": 11,
   "metadata": {},
   "outputs": [
    {
     "data": {
      "text/html": [
       "<div>\n",
       "<style scoped>\n",
       "    .dataframe tbody tr th:only-of-type {\n",
       "        vertical-align: middle;\n",
       "    }\n",
       "\n",
       "    .dataframe tbody tr th {\n",
       "        vertical-align: top;\n",
       "    }\n",
       "\n",
       "    .dataframe thead th {\n",
       "        text-align: right;\n",
       "    }\n",
       "</style>\n",
       "<table border=\"1\" class=\"dataframe\">\n",
       "  <thead>\n",
       "    <tr style=\"text-align: right;\">\n",
       "      <th></th>\n",
       "      <th>answers</th>\n",
       "      <th>passages</th>\n",
       "      <th>query</th>\n",
       "      <th>query_id</th>\n",
       "      <th>query_type</th>\n",
       "      <th>wellFormedAnswers</th>\n",
       "    </tr>\n",
       "  </thead>\n",
       "  <tbody>\n",
       "    <tr>\n",
       "      <th>0</th>\n",
       "      <td>[The immediate impact of the success of the ma...</td>\n",
       "      <td>{'is_selected': [1, 0, 0, 0, 0, 0, 0, 0, 0, 0]...</td>\n",
       "      <td>)what was the immediate impact of the success ...</td>\n",
       "      <td>1185869</td>\n",
       "      <td>DESCRIPTION</td>\n",
       "      <td>[]</td>\n",
       "    </tr>\n",
       "    <tr>\n",
       "      <th>1</th>\n",
       "      <td>[Restorative justice that fosters dialogue bet...</td>\n",
       "      <td>{'is_selected': [0, 0, 0, 0, 0, 0, 1, 0, 0, 0]...</td>\n",
       "      <td>_________ justice is designed to repair the ha...</td>\n",
       "      <td>1185868</td>\n",
       "      <td>DESCRIPTION</td>\n",
       "      <td>[]</td>\n",
       "    </tr>\n",
       "    <tr>\n",
       "      <th>2</th>\n",
       "      <td>[The reasons why Stalin wanted to control East...</td>\n",
       "      <td>{'is_selected': [0, 0, 0, 0, 0, 0, 1, 0, 0, 0]...</td>\n",
       "      <td>why did stalin want control of eastern europe</td>\n",
       "      <td>1185854</td>\n",
       "      <td>DESCRIPTION</td>\n",
       "      <td>[]</td>\n",
       "    </tr>\n",
       "    <tr>\n",
       "      <th>3</th>\n",
       "      <td>[Nails rust in water because water allows the ...</td>\n",
       "      <td>{'is_selected': [0, 0, 0, 0, 0, 1, 0, 0, 0, 0]...</td>\n",
       "      <td>why do nails get rusty</td>\n",
       "      <td>1185755</td>\n",
       "      <td>DESCRIPTION</td>\n",
       "      <td>[]</td>\n",
       "    </tr>\n",
       "    <tr>\n",
       "      <th>4</th>\n",
       "      <td>[Depona Ab is a library in Vilhelmina, Sweden.]</td>\n",
       "      <td>{'is_selected': [0, 0, 0, 0, 0, 0, 1, 0, 0, 0]...</td>\n",
       "      <td>depona ab</td>\n",
       "      <td>1184773</td>\n",
       "      <td>DESCRIPTION</td>\n",
       "      <td>[]</td>\n",
       "    </tr>\n",
       "  </tbody>\n",
       "</table>\n",
       "</div>"
      ],
      "text/plain": [
       "                                             answers  \\\n",
       "0  [The immediate impact of the success of the ma...   \n",
       "1  [Restorative justice that fosters dialogue bet...   \n",
       "2  [The reasons why Stalin wanted to control East...   \n",
       "3  [Nails rust in water because water allows the ...   \n",
       "4    [Depona Ab is a library in Vilhelmina, Sweden.]   \n",
       "\n",
       "                                            passages  \\\n",
       "0  {'is_selected': [1, 0, 0, 0, 0, 0, 0, 0, 0, 0]...   \n",
       "1  {'is_selected': [0, 0, 0, 0, 0, 0, 1, 0, 0, 0]...   \n",
       "2  {'is_selected': [0, 0, 0, 0, 0, 0, 1, 0, 0, 0]...   \n",
       "3  {'is_selected': [0, 0, 0, 0, 0, 1, 0, 0, 0, 0]...   \n",
       "4  {'is_selected': [0, 0, 0, 0, 0, 0, 1, 0, 0, 0]...   \n",
       "\n",
       "                                               query  query_id   query_type  \\\n",
       "0  )what was the immediate impact of the success ...   1185869  DESCRIPTION   \n",
       "1  _________ justice is designed to repair the ha...   1185868  DESCRIPTION   \n",
       "2      why did stalin want control of eastern europe   1185854  DESCRIPTION   \n",
       "3                             why do nails get rusty   1185755  DESCRIPTION   \n",
       "4                                          depona ab   1184773  DESCRIPTION   \n",
       "\n",
       "  wellFormedAnswers  \n",
       "0                []  \n",
       "1                []  \n",
       "2                []  \n",
       "3                []  \n",
       "4                []  "
      ]
     },
     "execution_count": 11,
     "metadata": {},
     "output_type": "execute_result"
    }
   ],
   "source": [
    "train_df = dataset.data.to_pandas()\n",
    "train_df.head()"
   ]
  },
  {
   "cell_type": "markdown",
   "metadata": {},
   "source": [
    "### Query & Answers (Examples)"
   ]
  },
  {
   "cell_type": "code",
   "execution_count": 12,
   "metadata": {},
   "outputs": [
    {
     "data": {
      "text/html": [
       "<div>\n",
       "<style scoped>\n",
       "    .dataframe tbody tr th:only-of-type {\n",
       "        vertical-align: middle;\n",
       "    }\n",
       "\n",
       "    .dataframe tbody tr th {\n",
       "        vertical-align: top;\n",
       "    }\n",
       "\n",
       "    .dataframe thead th {\n",
       "        text-align: right;\n",
       "    }\n",
       "</style>\n",
       "<table border=\"1\" class=\"dataframe\">\n",
       "  <thead>\n",
       "    <tr style=\"text-align: right;\">\n",
       "      <th></th>\n",
       "      <th>query</th>\n",
       "      <th>answers</th>\n",
       "    </tr>\n",
       "  </thead>\n",
       "  <tbody>\n",
       "    <tr>\n",
       "      <th>14995</th>\n",
       "      <td>what is a traditional breakfast food in chile</td>\n",
       "      <td>[Fresh bread (pan amasado) with fruit jellies ...</td>\n",
       "    </tr>\n",
       "    <tr>\n",
       "      <th>14996</th>\n",
       "      <td>what are the colors of a croton flower</td>\n",
       "      <td>[Originally croton leaves are green, but it ch...</td>\n",
       "    </tr>\n",
       "    <tr>\n",
       "      <th>14997</th>\n",
       "      <td>what is ce with a medical device</td>\n",
       "      <td>[CE Marking is a mandatory requirement for med...</td>\n",
       "    </tr>\n",
       "    <tr>\n",
       "      <th>14998</th>\n",
       "      <td>were ancient iberians an ethnic group?</td>\n",
       "      <td>[The Iberians were not a ethnic group.]</td>\n",
       "    </tr>\n",
       "    <tr>\n",
       "      <th>14999</th>\n",
       "      <td>what is a nanofiller</td>\n",
       "      <td>[No Answer Present.]</td>\n",
       "    </tr>\n",
       "  </tbody>\n",
       "</table>\n",
       "</div>"
      ],
      "text/plain": [
       "                                               query  \\\n",
       "14995  what is a traditional breakfast food in chile   \n",
       "14996         what are the colors of a croton flower   \n",
       "14997               what is ce with a medical device   \n",
       "14998         were ancient iberians an ethnic group?   \n",
       "14999                           what is a nanofiller   \n",
       "\n",
       "                                                 answers  \n",
       "14995  [Fresh bread (pan amasado) with fruit jellies ...  \n",
       "14996  [Originally croton leaves are green, but it ch...  \n",
       "14997  [CE Marking is a mandatory requirement for med...  \n",
       "14998            [The Iberians were not a ethnic group.]  \n",
       "14999                               [No Answer Present.]  "
      ]
     },
     "execution_count": 12,
     "metadata": {},
     "output_type": "execute_result"
    }
   ],
   "source": [
    "train_df[['query', 'answers']].tail()"
   ]
  },
  {
   "cell_type": "markdown",
   "metadata": {},
   "source": [
    "### Data & Data types"
   ]
  },
  {
   "cell_type": "code",
   "execution_count": 13,
   "metadata": {},
   "outputs": [
    {
     "name": "stdout",
     "output_type": "stream",
     "text": [
      "<class 'pandas.core.frame.DataFrame'>\n",
      "RangeIndex: 15000 entries, 0 to 14999\n",
      "Data columns (total 6 columns):\n",
      " #   Column             Non-Null Count  Dtype \n",
      "---  ------             --------------  ----- \n",
      " 0   answers            15000 non-null  object\n",
      " 1   passages           15000 non-null  object\n",
      " 2   query              15000 non-null  object\n",
      " 3   query_id           15000 non-null  int32 \n",
      " 4   query_type         15000 non-null  object\n",
      " 5   wellFormedAnswers  15000 non-null  object\n",
      "dtypes: int32(1), object(5)\n",
      "memory usage: 644.7+ KB\n"
     ]
    }
   ],
   "source": [
    "train_df.info()"
   ]
  },
  {
   "cell_type": "markdown",
   "metadata": {},
   "source": [
    "#### Query ID "
   ]
  },
  {
   "cell_type": "code",
   "execution_count": 14,
   "metadata": {},
   "outputs": [
    {
     "data": {
      "text/plain": [
       "15000"
      ]
     },
     "execution_count": 14,
     "metadata": {},
     "output_type": "execute_result"
    }
   ],
   "source": [
    "train_df['query_id'].nunique()"
   ]
  },
  {
   "cell_type": "code",
   "execution_count": 15,
   "metadata": {},
   "outputs": [
    {
     "data": {
      "text/html": [
       "<div>\n",
       "<style scoped>\n",
       "    .dataframe tbody tr th:only-of-type {\n",
       "        vertical-align: middle;\n",
       "    }\n",
       "\n",
       "    .dataframe tbody tr th {\n",
       "        vertical-align: top;\n",
       "    }\n",
       "\n",
       "    .dataframe thead th {\n",
       "        text-align: right;\n",
       "    }\n",
       "</style>\n",
       "<table border=\"1\" class=\"dataframe\">\n",
       "  <thead>\n",
       "    <tr style=\"text-align: right;\">\n",
       "      <th></th>\n",
       "      <th>query_id</th>\n",
       "    </tr>\n",
       "  </thead>\n",
       "  <tbody>\n",
       "    <tr>\n",
       "      <th>count</th>\n",
       "      <td>1.500000e+04</td>\n",
       "    </tr>\n",
       "    <tr>\n",
       "      <th>mean</th>\n",
       "      <td>5.317663e+05</td>\n",
       "    </tr>\n",
       "    <tr>\n",
       "      <th>std</th>\n",
       "      <td>2.870053e+05</td>\n",
       "    </tr>\n",
       "    <tr>\n",
       "      <th>min</th>\n",
       "      <td>9.900000e+01</td>\n",
       "    </tr>\n",
       "    <tr>\n",
       "      <th>25%</th>\n",
       "      <td>3.797632e+05</td>\n",
       "    </tr>\n",
       "    <tr>\n",
       "      <th>50%</th>\n",
       "      <td>5.198510e+05</td>\n",
       "    </tr>\n",
       "    <tr>\n",
       "      <th>75%</th>\n",
       "      <td>6.633990e+05</td>\n",
       "    </tr>\n",
       "    <tr>\n",
       "      <th>max</th>\n",
       "      <td>1.185869e+06</td>\n",
       "    </tr>\n",
       "  </tbody>\n",
       "</table>\n",
       "</div>"
      ],
      "text/plain": [
       "           query_id\n",
       "count  1.500000e+04\n",
       "mean   5.317663e+05\n",
       "std    2.870053e+05\n",
       "min    9.900000e+01\n",
       "25%    3.797632e+05\n",
       "50%    5.198510e+05\n",
       "75%    6.633990e+05\n",
       "max    1.185869e+06"
      ]
     },
     "execution_count": 15,
     "metadata": {},
     "output_type": "execute_result"
    }
   ],
   "source": [
    "train_df.describe()"
   ]
  },
  {
   "cell_type": "markdown",
   "metadata": {},
   "source": [
    "Based on the statistical distribution above the Query ID column has values ranging from 99 to ~1.2 million. Therefore int32 is the smallest and most optimal datatype for this column. \n"
   ]
  },
  {
   "cell_type": "markdown",
   "metadata": {},
   "source": [
    "#### Query Type"
   ]
  },
  {
   "cell_type": "code",
   "execution_count": 16,
   "metadata": {},
   "outputs": [
    {
     "data": {
      "text/plain": [
       "array(['DESCRIPTION', 'LOCATION', 'NUMERIC', 'ENTITY', 'PERSON'],\n",
       "      dtype=object)"
      ]
     },
     "execution_count": 16,
     "metadata": {},
     "output_type": "execute_result"
    }
   ],
   "source": [
    "train_df['query_type'].unique()"
   ]
  },
  {
   "cell_type": "code",
   "execution_count": 17,
   "metadata": {},
   "outputs": [
    {
     "data": {
      "text/plain": [
       "query_type\n",
       "DESCRIPTION    9344\n",
       "NUMERIC        3232\n",
       "ENTITY         1392\n",
       "LOCATION        632\n",
       "PERSON          400\n",
       "Name: count, dtype: int64"
      ]
     },
     "execution_count": 17,
     "metadata": {},
     "output_type": "execute_result"
    }
   ],
   "source": [
    "query_type_counts = train_df['query_type'].value_counts()\n",
    "query_type_counts"
   ]
  },
  {
   "cell_type": "code",
   "execution_count": 18,
   "metadata": {},
   "outputs": [
    {
     "data": {
      "image/png": "[encoded data removed]",
      "text/plain": [
       "<Figure size 1000x800 with 1 Axes>"
      ]
     },
     "metadata": {},
     "output_type": "display_data"
    }
   ],
   "source": [
    "# Create pie chart\n",
    "plt.figure(figsize=(10, 8))\n",
    "plt.pie(query_type_counts.values, \n",
    "        labels=query_type_counts.index, \n",
    "        autopct='%1.1f%%', \n",
    "        startangle=90)\n",
    "\n",
    "plt.title('Distribution of Query Types in MS MARCO Train Subset of Data')\n",
    "\n",
    "plt.show()"
   ]
  },
  {
   "cell_type": "markdown",
   "metadata": {},
   "source": [
    "Let's look at different query types:"
   ]
  },
  {
   "cell_type": "code",
   "execution_count": 19,
   "metadata": {},
   "outputs": [
    {
     "data": {
      "text/html": [
       "<div>\n",
       "<style scoped>\n",
       "    .dataframe tbody tr th:only-of-type {\n",
       "        vertical-align: middle;\n",
       "    }\n",
       "\n",
       "    .dataframe tbody tr th {\n",
       "        vertical-align: top;\n",
       "    }\n",
       "\n",
       "    .dataframe thead th {\n",
       "        text-align: right;\n",
       "    }\n",
       "</style>\n",
       "<table border=\"1\" class=\"dataframe\">\n",
       "  <thead>\n",
       "    <tr style=\"text-align: right;\">\n",
       "      <th></th>\n",
       "      <th>query</th>\n",
       "      <th>answers</th>\n",
       "      <th>wellFormedAnswers</th>\n",
       "    </tr>\n",
       "  </thead>\n",
       "  <tbody>\n",
       "    <tr>\n",
       "      <th>0</th>\n",
       "      <td>)what was the immediate impact of the success ...</td>\n",
       "      <td>[The immediate impact of the success of the ma...</td>\n",
       "      <td>[]</td>\n",
       "    </tr>\n",
       "    <tr>\n",
       "      <th>1</th>\n",
       "      <td>_________ justice is designed to repair the ha...</td>\n",
       "      <td>[Restorative justice that fosters dialogue bet...</td>\n",
       "      <td>[]</td>\n",
       "    </tr>\n",
       "    <tr>\n",
       "      <th>2</th>\n",
       "      <td>why did stalin want control of eastern europe</td>\n",
       "      <td>[The reasons why Stalin wanted to control East...</td>\n",
       "      <td>[]</td>\n",
       "    </tr>\n",
       "    <tr>\n",
       "      <th>3</th>\n",
       "      <td>why do nails get rusty</td>\n",
       "      <td>[Nails rust in water because water allows the ...</td>\n",
       "      <td>[]</td>\n",
       "    </tr>\n",
       "    <tr>\n",
       "      <th>4</th>\n",
       "      <td>depona ab</td>\n",
       "      <td>[Depona Ab is a library in Vilhelmina, Sweden.]</td>\n",
       "      <td>[]</td>\n",
       "    </tr>\n",
       "    <tr>\n",
       "      <th>...</th>\n",
       "      <td>...</td>\n",
       "      <td>...</td>\n",
       "      <td>...</td>\n",
       "    </tr>\n",
       "    <tr>\n",
       "      <th>14992</th>\n",
       "      <td>minimalism meaning</td>\n",
       "      <td>[Minimalism is a movement in sculpture and pai...</td>\n",
       "      <td>[]</td>\n",
       "    </tr>\n",
       "    <tr>\n",
       "      <th>14994</th>\n",
       "      <td>what does motd stand for in terraria</td>\n",
       "      <td>[No Answer Present.]</td>\n",
       "      <td>[]</td>\n",
       "    </tr>\n",
       "    <tr>\n",
       "      <th>14997</th>\n",
       "      <td>what is ce with a medical device</td>\n",
       "      <td>[CE Marking is a mandatory requirement for med...</td>\n",
       "      <td>[]</td>\n",
       "    </tr>\n",
       "    <tr>\n",
       "      <th>14998</th>\n",
       "      <td>were ancient iberians an ethnic group?</td>\n",
       "      <td>[The Iberians were not a ethnic group.]</td>\n",
       "      <td>[]</td>\n",
       "    </tr>\n",
       "    <tr>\n",
       "      <th>14999</th>\n",
       "      <td>what is a nanofiller</td>\n",
       "      <td>[No Answer Present.]</td>\n",
       "      <td>[]</td>\n",
       "    </tr>\n",
       "  </tbody>\n",
       "</table>\n",
       "<p>9344 rows × 3 columns</p>\n",
       "</div>"
      ],
      "text/plain": [
       "                                                   query  \\\n",
       "0      )what was the immediate impact of the success ...   \n",
       "1      _________ justice is designed to repair the ha...   \n",
       "2          why did stalin want control of eastern europe   \n",
       "3                                 why do nails get rusty   \n",
       "4                                              depona ab   \n",
       "...                                                  ...   \n",
       "14992                                 minimalism meaning   \n",
       "14994               what does motd stand for in terraria   \n",
       "14997                   what is ce with a medical device   \n",
       "14998             were ancient iberians an ethnic group?   \n",
       "14999                               what is a nanofiller   \n",
       "\n",
       "                                                 answers wellFormedAnswers  \n",
       "0      [The immediate impact of the success of the ma...                []  \n",
       "1      [Restorative justice that fosters dialogue bet...                []  \n",
       "2      [The reasons why Stalin wanted to control East...                []  \n",
       "3      [Nails rust in water because water allows the ...                []  \n",
       "4        [Depona Ab is a library in Vilhelmina, Sweden.]                []  \n",
       "...                                                  ...               ...  \n",
       "14992  [Minimalism is a movement in sculpture and pai...                []  \n",
       "14994                               [No Answer Present.]                []  \n",
       "14997  [CE Marking is a mandatory requirement for med...                []  \n",
       "14998            [The Iberians were not a ethnic group.]                []  \n",
       "14999                               [No Answer Present.]                []  \n",
       "\n",
       "[9344 rows x 3 columns]"
      ]
     },
     "execution_count": 19,
     "metadata": {},
     "output_type": "execute_result"
    }
   ],
   "source": [
    "# query type: DESCRIPTION\n",
    "train_df.query(\"query_type == 'DESCRIPTION'\")[['query', 'answers', 'wellFormedAnswers']]"
   ]
  },
  {
   "cell_type": "code",
   "execution_count": 20,
   "metadata": {},
   "outputs": [
    {
     "data": {
      "text/html": [
       "<div>\n",
       "<style scoped>\n",
       "    .dataframe tbody tr th:only-of-type {\n",
       "        vertical-align: middle;\n",
       "    }\n",
       "\n",
       "    .dataframe tbody tr th {\n",
       "        vertical-align: top;\n",
       "    }\n",
       "\n",
       "    .dataframe thead th {\n",
       "        text-align: right;\n",
       "    }\n",
       "</style>\n",
       "<table border=\"1\" class=\"dataframe\">\n",
       "  <thead>\n",
       "    <tr style=\"text-align: right;\">\n",
       "      <th></th>\n",
       "      <th>query</th>\n",
       "      <th>answers</th>\n",
       "      <th>wellFormedAnswers</th>\n",
       "    </tr>\n",
       "  </thead>\n",
       "  <tbody>\n",
       "    <tr>\n",
       "      <th>5</th>\n",
       "      <td>is the atlanta airport the busiest in the world</td>\n",
       "      <td>[No Answer Present.]</td>\n",
       "      <td>[]</td>\n",
       "    </tr>\n",
       "    <tr>\n",
       "      <th>18</th>\n",
       "      <td>what county is dewitt michigan in?</td>\n",
       "      <td>[DeWitt is located in Clinton County, Michigan...</td>\n",
       "      <td>[]</td>\n",
       "    </tr>\n",
       "    <tr>\n",
       "      <th>23</th>\n",
       "      <td>what county is columbus city in</td>\n",
       "      <td>[Bartholomew]</td>\n",
       "      <td>[Columbus is a city in Bartholomew County.]</td>\n",
       "    </tr>\n",
       "    <tr>\n",
       "      <th>26</th>\n",
       "      <td>what county is shelton, ct</td>\n",
       "      <td>[Shelton is in Fairfield County, Connecticut, ...</td>\n",
       "      <td>[]</td>\n",
       "    </tr>\n",
       "    <tr>\n",
       "      <th>42</th>\n",
       "      <td>what county is seminole fl in</td>\n",
       "      <td>[Pinellas County]</td>\n",
       "      <td>[Seminole, Florida is in Pinellas County.]</td>\n",
       "    </tr>\n",
       "    <tr>\n",
       "      <th>...</th>\n",
       "      <td>...</td>\n",
       "      <td>...</td>\n",
       "      <td>...</td>\n",
       "    </tr>\n",
       "    <tr>\n",
       "      <th>14872</th>\n",
       "      <td>is dubai a world city</td>\n",
       "      <td>[Yes]</td>\n",
       "      <td>[]</td>\n",
       "    </tr>\n",
       "    <tr>\n",
       "      <th>14945</th>\n",
       "      <td>what county is hazelwood, pa located</td>\n",
       "      <td>[Allegheny County]</td>\n",
       "      <td>[]</td>\n",
       "    </tr>\n",
       "    <tr>\n",
       "      <th>14947</th>\n",
       "      <td>what county is louin ms in</td>\n",
       "      <td>[Jasper County]</td>\n",
       "      <td>[Louin is located in Jasper County, Mississippi.]</td>\n",
       "    </tr>\n",
       "    <tr>\n",
       "      <th>14959</th>\n",
       "      <td>mindbodygreen address</td>\n",
       "      <td>[No Answer Present.]</td>\n",
       "      <td>[]</td>\n",
       "    </tr>\n",
       "    <tr>\n",
       "      <th>14981</th>\n",
       "      <td>mines in burgersfort limpopo</td>\n",
       "      <td>[Bokoni Platinum Mines is located at Off r37 H...</td>\n",
       "      <td>[]</td>\n",
       "    </tr>\n",
       "  </tbody>\n",
       "</table>\n",
       "<p>632 rows × 3 columns</p>\n",
       "</div>"
      ],
      "text/plain": [
       "                                                 query  \\\n",
       "5      is the atlanta airport the busiest in the world   \n",
       "18                  what county is dewitt michigan in?   \n",
       "23                     what county is columbus city in   \n",
       "26                          what county is shelton, ct   \n",
       "42                       what county is seminole fl in   \n",
       "...                                                ...   \n",
       "14872                            is dubai a world city   \n",
       "14945             what county is hazelwood, pa located   \n",
       "14947                       what county is louin ms in   \n",
       "14959                            mindbodygreen address   \n",
       "14981                     mines in burgersfort limpopo   \n",
       "\n",
       "                                                 answers  \\\n",
       "5                                   [No Answer Present.]   \n",
       "18     [DeWitt is located in Clinton County, Michigan...   \n",
       "23                                         [Bartholomew]   \n",
       "26     [Shelton is in Fairfield County, Connecticut, ...   \n",
       "42                                     [Pinellas County]   \n",
       "...                                                  ...   \n",
       "14872                                              [Yes]   \n",
       "14945                                 [Allegheny County]   \n",
       "14947                                    [Jasper County]   \n",
       "14959                               [No Answer Present.]   \n",
       "14981  [Bokoni Platinum Mines is located at Off r37 H...   \n",
       "\n",
       "                                       wellFormedAnswers  \n",
       "5                                                     []  \n",
       "18                                                    []  \n",
       "23           [Columbus is a city in Bartholomew County.]  \n",
       "26                                                    []  \n",
       "42            [Seminole, Florida is in Pinellas County.]  \n",
       "...                                                  ...  \n",
       "14872                                                 []  \n",
       "14945                                                 []  \n",
       "14947  [Louin is located in Jasper County, Mississippi.]  \n",
       "14959                                                 []  \n",
       "14981                                                 []  \n",
       "\n",
       "[632 rows x 3 columns]"
      ]
     },
     "execution_count": 20,
     "metadata": {},
     "output_type": "execute_result"
    }
   ],
   "source": [
    "# query type: LOCATION\n",
    "train_df.query(\"query_type == 'LOCATION'\")[['query', 'answers', 'wellFormedAnswers']]"
   ]
  },
  {
   "cell_type": "code",
   "execution_count": 21,
   "metadata": {},
   "outputs": [
    {
     "data": {
      "text/html": [
       "<div>\n",
       "<style scoped>\n",
       "    .dataframe tbody tr th:only-of-type {\n",
       "        vertical-align: middle;\n",
       "    }\n",
       "\n",
       "    .dataframe tbody tr th {\n",
       "        vertical-align: top;\n",
       "    }\n",
       "\n",
       "    .dataframe thead th {\n",
       "        text-align: right;\n",
       "    }\n",
       "</style>\n",
       "<table border=\"1\" class=\"dataframe\">\n",
       "  <thead>\n",
       "    <tr style=\"text-align: right;\">\n",
       "      <th></th>\n",
       "      <th>query</th>\n",
       "      <th>answers</th>\n",
       "      <th>wellFormedAnswers</th>\n",
       "    </tr>\n",
       "  </thead>\n",
       "  <tbody>\n",
       "    <tr>\n",
       "      <th>6</th>\n",
       "      <td>nyu tuition cost</td>\n",
       "      <td>[$43,746 for the 2014-2015 academic year.]</td>\n",
       "      <td>[]</td>\n",
       "    </tr>\n",
       "    <tr>\n",
       "      <th>7</th>\n",
       "      <td>at what age do kids start to hold memories</td>\n",
       "      <td>[Before the age of 2–4 years.]</td>\n",
       "      <td>[]</td>\n",
       "    </tr>\n",
       "    <tr>\n",
       "      <th>8</th>\n",
       "      <td>average teeth brushing time</td>\n",
       "      <td>[Americans brush for just under the two minute...</td>\n",
       "      <td>[]</td>\n",
       "    </tr>\n",
       "    <tr>\n",
       "      <th>12</th>\n",
       "      <td>artin chicken mcdonalds calories</td>\n",
       "      <td>[No Answer Present.]</td>\n",
       "      <td>[]</td>\n",
       "    </tr>\n",
       "    <tr>\n",
       "      <th>15</th>\n",
       "      <td>sum of squares of even numbers formula</td>\n",
       "      <td>[No Answer Present.]</td>\n",
       "      <td>[]</td>\n",
       "    </tr>\n",
       "    <tr>\n",
       "      <th>...</th>\n",
       "      <td>...</td>\n",
       "      <td>...</td>\n",
       "      <td>...</td>\n",
       "    </tr>\n",
       "    <tr>\n",
       "      <th>14971</th>\n",
       "      <td>what % of your body weight should be water</td>\n",
       "      <td>[The amount of water in the human body ranges ...</td>\n",
       "      <td>[]</td>\n",
       "    </tr>\n",
       "    <tr>\n",
       "      <th>14972</th>\n",
       "      <td>how much caffeine is in green coffee</td>\n",
       "      <td>[20 mg]</td>\n",
       "      <td>[There is 20 mg of caffeine in green coffee.]</td>\n",
       "    </tr>\n",
       "    <tr>\n",
       "      <th>14975</th>\n",
       "      <td>how far is secrets punta cana from the airport</td>\n",
       "      <td>[No Answer Present.]</td>\n",
       "      <td>[]</td>\n",
       "    </tr>\n",
       "    <tr>\n",
       "      <th>14986</th>\n",
       "      <td>planting distance for blue plumbago</td>\n",
       "      <td>[36 to 60 inches apart]</td>\n",
       "      <td>[The planting distance for blue plumbago 36 to...</td>\n",
       "    </tr>\n",
       "    <tr>\n",
       "      <th>14993</th>\n",
       "      <td>net salary formula</td>\n",
       "      <td>[No Answer Present.]</td>\n",
       "      <td>[]</td>\n",
       "    </tr>\n",
       "  </tbody>\n",
       "</table>\n",
       "<p>3232 rows × 3 columns</p>\n",
       "</div>"
      ],
      "text/plain": [
       "                                                query  \\\n",
       "6                                    nyu tuition cost   \n",
       "7          at what age do kids start to hold memories   \n",
       "8                         average teeth brushing time   \n",
       "12                   artin chicken mcdonalds calories   \n",
       "15             sum of squares of even numbers formula   \n",
       "...                                               ...   \n",
       "14971      what % of your body weight should be water   \n",
       "14972            how much caffeine is in green coffee   \n",
       "14975  how far is secrets punta cana from the airport   \n",
       "14986             planting distance for blue plumbago   \n",
       "14993                              net salary formula   \n",
       "\n",
       "                                                 answers  \\\n",
       "6             [$43,746 for the 2014-2015 academic year.]   \n",
       "7                         [Before the age of 2–4 years.]   \n",
       "8      [Americans brush for just under the two minute...   \n",
       "12                                  [No Answer Present.]   \n",
       "15                                  [No Answer Present.]   \n",
       "...                                                  ...   \n",
       "14971  [The amount of water in the human body ranges ...   \n",
       "14972                                            [20 mg]   \n",
       "14975                               [No Answer Present.]   \n",
       "14986                            [36 to 60 inches apart]   \n",
       "14993                               [No Answer Present.]   \n",
       "\n",
       "                                       wellFormedAnswers  \n",
       "6                                                     []  \n",
       "7                                                     []  \n",
       "8                                                     []  \n",
       "12                                                    []  \n",
       "15                                                    []  \n",
       "...                                                  ...  \n",
       "14971                                                 []  \n",
       "14972      [There is 20 mg of caffeine in green coffee.]  \n",
       "14975                                                 []  \n",
       "14986  [The planting distance for blue plumbago 36 to...  \n",
       "14993                                                 []  \n",
       "\n",
       "[3232 rows x 3 columns]"
      ]
     },
     "execution_count": 21,
     "metadata": {},
     "output_type": "execute_result"
    }
   ],
   "source": [
    "# query type: NUMERIC\n",
    "train_df.query(\"query_type == 'NUMERIC'\")[['query', 'answers', 'wellFormedAnswers']]"
   ]
  },
  {
   "cell_type": "code",
   "execution_count": 22,
   "metadata": {},
   "outputs": [
    {
     "data": {
      "text/html": [
       "<div>\n",
       "<style scoped>\n",
       "    .dataframe tbody tr th:only-of-type {\n",
       "        vertical-align: middle;\n",
       "    }\n",
       "\n",
       "    .dataframe tbody tr th {\n",
       "        vertical-align: top;\n",
       "    }\n",
       "\n",
       "    .dataframe thead th {\n",
       "        text-align: right;\n",
       "    }\n",
       "</style>\n",
       "<table border=\"1\" class=\"dataframe\">\n",
       "  <thead>\n",
       "    <tr style=\"text-align: right;\">\n",
       "      <th></th>\n",
       "      <th>query</th>\n",
       "      <th>answers</th>\n",
       "      <th>wellFormedAnswers</th>\n",
       "    </tr>\n",
       "  </thead>\n",
       "  <tbody>\n",
       "    <tr>\n",
       "      <th>21</th>\n",
       "      <td>what is early bird check in southwest</td>\n",
       "      <td>[It allows passengers to check-in to a flight ...</td>\n",
       "      <td>[]</td>\n",
       "    </tr>\n",
       "    <tr>\n",
       "      <th>46</th>\n",
       "      <td>what is home food store</td>\n",
       "      <td>[No Answer Present.]</td>\n",
       "      <td>[]</td>\n",
       "    </tr>\n",
       "    <tr>\n",
       "      <th>60</th>\n",
       "      <td>is the cheetah an endangered species</td>\n",
       "      <td>[Yes, Cheetah is considered Endangered species.]</td>\n",
       "      <td>[]</td>\n",
       "    </tr>\n",
       "    <tr>\n",
       "      <th>69</th>\n",
       "      <td>Niegerian Prophet turns into a snake in church...</td>\n",
       "      <td>[No Answer Present.]</td>\n",
       "      <td>[]</td>\n",
       "    </tr>\n",
       "    <tr>\n",
       "      <th>72</th>\n",
       "      <td>what are signs of ulcers in equine</td>\n",
       "      <td>[No Answer Present.]</td>\n",
       "      <td>[]</td>\n",
       "    </tr>\n",
       "    <tr>\n",
       "      <th>...</th>\n",
       "      <td>...</td>\n",
       "      <td>...</td>\n",
       "      <td>...</td>\n",
       "    </tr>\n",
       "    <tr>\n",
       "      <th>14952</th>\n",
       "      <td>what dog breed is kevin in the movie the proposal</td>\n",
       "      <td>[No Answer Present.]</td>\n",
       "      <td>[]</td>\n",
       "    </tr>\n",
       "    <tr>\n",
       "      <th>14955</th>\n",
       "      <td>hay fever mouth</td>\n",
       "      <td>[The symptoms of hay fever include frequent sn...</td>\n",
       "      <td>[]</td>\n",
       "    </tr>\n",
       "    <tr>\n",
       "      <th>14958</th>\n",
       "      <td>international home foods inc</td>\n",
       "      <td>[It was an American manufacturer, distributor ...</td>\n",
       "      <td>[]</td>\n",
       "    </tr>\n",
       "    <tr>\n",
       "      <th>14995</th>\n",
       "      <td>what is a traditional breakfast food in chile</td>\n",
       "      <td>[Fresh bread (pan amasado) with fruit jellies ...</td>\n",
       "      <td>[]</td>\n",
       "    </tr>\n",
       "    <tr>\n",
       "      <th>14996</th>\n",
       "      <td>what are the colors of a croton flower</td>\n",
       "      <td>[Originally croton leaves are green, but it ch...</td>\n",
       "      <td>[]</td>\n",
       "    </tr>\n",
       "  </tbody>\n",
       "</table>\n",
       "<p>1392 rows × 3 columns</p>\n",
       "</div>"
      ],
      "text/plain": [
       "                                                   query  \\\n",
       "21                 what is early bird check in southwest   \n",
       "46                               what is home food store   \n",
       "60                  is the cheetah an endangered species   \n",
       "69     Niegerian Prophet turns into a snake in church...   \n",
       "72                    what are signs of ulcers in equine   \n",
       "...                                                  ...   \n",
       "14952  what dog breed is kevin in the movie the proposal   \n",
       "14955                                    hay fever mouth   \n",
       "14958                       international home foods inc   \n",
       "14995      what is a traditional breakfast food in chile   \n",
       "14996             what are the colors of a croton flower   \n",
       "\n",
       "                                                 answers wellFormedAnswers  \n",
       "21     [It allows passengers to check-in to a flight ...                []  \n",
       "46                                  [No Answer Present.]                []  \n",
       "60      [Yes, Cheetah is considered Endangered species.]                []  \n",
       "69                                  [No Answer Present.]                []  \n",
       "72                                  [No Answer Present.]                []  \n",
       "...                                                  ...               ...  \n",
       "14952                               [No Answer Present.]                []  \n",
       "14955  [The symptoms of hay fever include frequent sn...                []  \n",
       "14958  [It was an American manufacturer, distributor ...                []  \n",
       "14995  [Fresh bread (pan amasado) with fruit jellies ...                []  \n",
       "14996  [Originally croton leaves are green, but it ch...                []  \n",
       "\n",
       "[1392 rows x 3 columns]"
      ]
     },
     "execution_count": 22,
     "metadata": {},
     "output_type": "execute_result"
    }
   ],
   "source": [
    "# query type: ENTITY\n",
    "train_df.query(\"query_type == 'ENTITY'\")[['query', 'answers', 'wellFormedAnswers']]"
   ]
  },
  {
   "cell_type": "code",
   "execution_count": 23,
   "metadata": {},
   "outputs": [
    {
     "data": {
      "text/html": [
       "<div>\n",
       "<style scoped>\n",
       "    .dataframe tbody tr th:only-of-type {\n",
       "        vertical-align: middle;\n",
       "    }\n",
       "\n",
       "    .dataframe tbody tr th {\n",
       "        vertical-align: top;\n",
       "    }\n",
       "\n",
       "    .dataframe thead th {\n",
       "        text-align: right;\n",
       "    }\n",
       "</style>\n",
       "<table border=\"1\" class=\"dataframe\">\n",
       "  <thead>\n",
       "    <tr style=\"text-align: right;\">\n",
       "      <th></th>\n",
       "      <th>query</th>\n",
       "      <th>answers</th>\n",
       "      <th>wellFormedAnswers</th>\n",
       "    </tr>\n",
       "  </thead>\n",
       "  <tbody>\n",
       "    <tr>\n",
       "      <th>56</th>\n",
       "      <td>was the president of morehouse college recentl...</td>\n",
       "      <td>[No Answer Present.]</td>\n",
       "      <td>[]</td>\n",
       "    </tr>\n",
       "    <tr>\n",
       "      <th>106</th>\n",
       "      <td>most romantic hotels in bahamas</td>\n",
       "      <td>[No Answer Present.]</td>\n",
       "      <td>[]</td>\n",
       "    </tr>\n",
       "    <tr>\n",
       "      <th>139</th>\n",
       "      <td>the place beyond the pines cast</td>\n",
       "      <td>[It is actually the Native American meaning to...</td>\n",
       "      <td>[]</td>\n",
       "    </tr>\n",
       "    <tr>\n",
       "      <th>141</th>\n",
       "      <td>largest active military</td>\n",
       "      <td>[China]</td>\n",
       "      <td>[China has the largest active military.]</td>\n",
       "    </tr>\n",
       "    <tr>\n",
       "      <th>346</th>\n",
       "      <td>the incredible hulk.  actor</td>\n",
       "      <td>[Yes]</td>\n",
       "      <td>[]</td>\n",
       "    </tr>\n",
       "    <tr>\n",
       "      <th>...</th>\n",
       "      <td>...</td>\n",
       "      <td>...</td>\n",
       "      <td>...</td>\n",
       "    </tr>\n",
       "    <tr>\n",
       "      <th>14798</th>\n",
       "      <td>cast of haven season 5 episode 8</td>\n",
       "      <td>[No Answer Present.]</td>\n",
       "      <td>[]</td>\n",
       "    </tr>\n",
       "    <tr>\n",
       "      <th>14819</th>\n",
       "      <td>longest man space flight</td>\n",
       "      <td>[Valeri Polyakov]</td>\n",
       "      <td>[Valeri Polyakov has been longest man in space...</td>\n",
       "    </tr>\n",
       "    <tr>\n",
       "      <th>14867</th>\n",
       "      <td>what channel is nfl network</td>\n",
       "      <td>[An American sports-oriented cable.]</td>\n",
       "      <td>[]</td>\n",
       "    </tr>\n",
       "    <tr>\n",
       "      <th>14890</th>\n",
       "      <td>what committees is kathy lohmer on</td>\n",
       "      <td>[Health and Human Services Policy Health and H...</td>\n",
       "      <td>[]</td>\n",
       "    </tr>\n",
       "    <tr>\n",
       "      <th>14940</th>\n",
       "      <td>the duty for norwegian american hospital for u...</td>\n",
       "      <td>[No Answer Present.]</td>\n",
       "      <td>[]</td>\n",
       "    </tr>\n",
       "  </tbody>\n",
       "</table>\n",
       "<p>400 rows × 3 columns</p>\n",
       "</div>"
      ],
      "text/plain": [
       "                                                   query  \\\n",
       "56     was the president of morehouse college recentl...   \n",
       "106                      most romantic hotels in bahamas   \n",
       "139                      the place beyond the pines cast   \n",
       "141                              largest active military   \n",
       "346                          the incredible hulk.  actor   \n",
       "...                                                  ...   \n",
       "14798                   cast of haven season 5 episode 8   \n",
       "14819                           longest man space flight   \n",
       "14867                        what channel is nfl network   \n",
       "14890                 what committees is kathy lohmer on   \n",
       "14940  the duty for norwegian american hospital for u...   \n",
       "\n",
       "                                                 answers  \\\n",
       "56                                  [No Answer Present.]   \n",
       "106                                 [No Answer Present.]   \n",
       "139    [It is actually the Native American meaning to...   \n",
       "141                                              [China]   \n",
       "346                                                [Yes]   \n",
       "...                                                  ...   \n",
       "14798                               [No Answer Present.]   \n",
       "14819                                  [Valeri Polyakov]   \n",
       "14867               [An American sports-oriented cable.]   \n",
       "14890  [Health and Human Services Policy Health and H...   \n",
       "14940                               [No Answer Present.]   \n",
       "\n",
       "                                       wellFormedAnswers  \n",
       "56                                                    []  \n",
       "106                                                   []  \n",
       "139                                                   []  \n",
       "141             [China has the largest active military.]  \n",
       "346                                                   []  \n",
       "...                                                  ...  \n",
       "14798                                                 []  \n",
       "14819  [Valeri Polyakov has been longest man in space...  \n",
       "14867                                                 []  \n",
       "14890                                                 []  \n",
       "14940                                                 []  \n",
       "\n",
       "[400 rows x 3 columns]"
      ]
     },
     "execution_count": 23,
     "metadata": {},
     "output_type": "execute_result"
    }
   ],
   "source": [
    "# query type: PERSON\n",
    "train_df.query(\"query_type == 'PERSON'\")[['query', 'answers', 'wellFormedAnswers']]"
   ]
  },
  {
   "cell_type": "markdown",
   "metadata": {},
   "source": [
    "#### Passages"
   ]
  },
  {
   "cell_type": "code",
   "execution_count": 24,
   "metadata": {},
   "outputs": [
    {
     "data": {
      "text/plain": [
       "{'is_selected': array([1, 0, 0, 0, 0, 0, 0, 0, 0, 0], dtype=int32),\n",
       " 'passage_text': array(['The presence of communication amid scientific minds was equally important to the success of the Manhattan Project as scientific intellect was. The only cloud hanging over the impressive achievement of the atomic researchers and engineers is what their success truly meant; hundreds of thousands of innocent lives obliterated.',\n",
       "        'The Manhattan Project and its atomic bomb helped bring an end to World War II. Its legacy of peaceful uses of atomic energy continues to have an impact on history and science.',\n",
       "        'Essay on The Manhattan Project - The Manhattan Project The Manhattan Project was to see if making an atomic bomb possible. The success of this project would forever change the world forever making it known that something this powerful can be manmade.',\n",
       "        'The Manhattan Project was the name for a project conducted during World War II, to develop the first atomic bomb. It refers specifically to the period of the project from 194 … 2-1946 under the control of the U.S. Army Corps of Engineers, under the administration of General Leslie R. Groves.',\n",
       "        'versions of each volume as well as complementary websites. The first website–The Manhattan Project: An Interactive History–is available on the Office of History and Heritage Resources website, http://www.cfo. doe.gov/me70/history. The Office of History and Heritage Resources and the National Nuclear Security',\n",
       "        'The Manhattan Project. This once classified photograph features the first atomic bomb — a weapon that atomic scientists had nicknamed Gadget.. The nuclear age began on July 16, 1945, when it was detonated in the New Mexico desert.',\n",
       "        'Nor will it attempt to substitute for the extraordinarily rich literature on the atomic bombs and the end of World War II. This collection does not attempt to document the origins and development of the Manhattan Project.',\n",
       "        'Manhattan Project. The Manhattan Project was a research and development undertaking during World War II that produced the first nuclear weapons. It was led by the United States with the support of the United Kingdom and Canada. From 1942 to 1946, the project was under the direction of Major General Leslie Groves of the U.S. Army Corps of Engineers. Nuclear physicist Robert Oppenheimer was the director of the Los Alamos Laboratory that designed the actual bombs. The Army component of the project was designated the',\n",
       "        'In June 1942, the United States Army Corps of Engineersbegan the Manhattan Project- The secret name for the 2 atomic bombs.',\n",
       "        \"One of the main reasons Hanford was selected as a site for the Manhattan Project's B Reactor was its proximity to the Columbia River, the largest river flowing into the Pacific Ocean from the North American coast.\"],\n",
       "       dtype=object),\n",
       " 'url': array(['http://www.pitt.edu/~sdb14/atombomb.html',\n",
       "        'http://www.osti.gov/accomplishments/manhattan_story.html',\n",
       "        'http://www.123helpme.com/impact-of-the-manhattan-project-preview.asp?id=177337',\n",
       "        'http://www.answers.com/Q/How_did_the_Manhattan_Project_impact_on_society',\n",
       "        'https://www.osti.gov/manhattan-project-history/publications/Manhattan_Project_2010.pdf',\n",
       "        'http://www.ushistory.org/us/51f.asp',\n",
       "        'http://nsarchive.gwu.edu/NSAEBB/NSAEBB162',\n",
       "        'https://en.wikipedia.org/wiki/Manhattan_Project',\n",
       "        'https://quizlet.com/41456230/a-bomb-flash-cards/',\n",
       "        'https://www.atomicheritage.org/history/environmental-consequences'],\n",
       "       dtype=object)}"
      ]
     },
     "execution_count": 24,
     "metadata": {},
     "output_type": "execute_result"
    }
   ],
   "source": [
    "train_df['passages'][0]"
   ]
  },
  {
   "cell_type": "code",
   "execution_count": 25,
   "metadata": {},
   "outputs": [
    {
     "data": {
      "text/plain": [
       "array(['The presence of communication amid scientific minds was equally important to the success of the Manhattan Project as scientific intellect was. The only cloud hanging over the impressive achievement of the atomic researchers and engineers is what their success truly meant; hundreds of thousands of innocent lives obliterated.',\n",
       "       'The Manhattan Project and its atomic bomb helped bring an end to World War II. Its legacy of peaceful uses of atomic energy continues to have an impact on history and science.',\n",
       "       'Essay on The Manhattan Project - The Manhattan Project The Manhattan Project was to see if making an atomic bomb possible. The success of this project would forever change the world forever making it known that something this powerful can be manmade.',\n",
       "       'The Manhattan Project was the name for a project conducted during World War II, to develop the first atomic bomb. It refers specifically to the period of the project from 194 … 2-1946 under the control of the U.S. Army Corps of Engineers, under the administration of General Leslie R. Groves.',\n",
       "       'versions of each volume as well as complementary websites. The first website–The Manhattan Project: An Interactive History–is available on the Office of History and Heritage Resources website, http://www.cfo. doe.gov/me70/history. The Office of History and Heritage Resources and the National Nuclear Security',\n",
       "       'The Manhattan Project. This once classified photograph features the first atomic bomb — a weapon that atomic scientists had nicknamed Gadget.. The nuclear age began on July 16, 1945, when it was detonated in the New Mexico desert.',\n",
       "       'Nor will it attempt to substitute for the extraordinarily rich literature on the atomic bombs and the end of World War II. This collection does not attempt to document the origins and development of the Manhattan Project.',\n",
       "       'Manhattan Project. The Manhattan Project was a research and development undertaking during World War II that produced the first nuclear weapons. It was led by the United States with the support of the United Kingdom and Canada. From 1942 to 1946, the project was under the direction of Major General Leslie Groves of the U.S. Army Corps of Engineers. Nuclear physicist Robert Oppenheimer was the director of the Los Alamos Laboratory that designed the actual bombs. The Army component of the project was designated the',\n",
       "       'In June 1942, the United States Army Corps of Engineersbegan the Manhattan Project- The secret name for the 2 atomic bombs.',\n",
       "       \"One of the main reasons Hanford was selected as a site for the Manhattan Project's B Reactor was its proximity to the Columbia River, the largest river flowing into the Pacific Ocean from the North American coast.\"],\n",
       "      dtype=object)"
      ]
     },
     "execution_count": 25,
     "metadata": {},
     "output_type": "execute_result"
    }
   ],
   "source": [
    "train_df['passages'][0]['passage_text']"
   ]
  },
  {
   "cell_type": "code",
   "execution_count": 26,
   "metadata": {},
   "outputs": [
    {
     "data": {
      "text/plain": [
       "array([1, 0, 0, 0, 0, 0, 0, 0, 0, 0], dtype=int32)"
      ]
     },
     "execution_count": 26,
     "metadata": {},
     "output_type": "execute_result"
    }
   ],
   "source": [
    "train_df['passages'][0]['is_selected']"
   ]
  },
  {
   "cell_type": "markdown",
   "metadata": {},
   "source": [
    "The 'is_selected' section is a boolean array. It indicates whether the passage was selected by human annotators as containing information relevant to answering the query. "
   ]
  },
  {
   "cell_type": "code",
   "execution_count": 27,
   "metadata": {},
   "outputs": [
    {
     "data": {
      "text/plain": [
       "array(['http://www.pitt.edu/~sdb14/atombomb.html',\n",
       "       'http://www.osti.gov/accomplishments/manhattan_story.html',\n",
       "       'http://www.123helpme.com/impact-of-the-manhattan-project-preview.asp?id=177337',\n",
       "       'http://www.answers.com/Q/How_did_the_Manhattan_Project_impact_on_society',\n",
       "       'https://www.osti.gov/manhattan-project-history/publications/Manhattan_Project_2010.pdf',\n",
       "       'http://www.ushistory.org/us/51f.asp',\n",
       "       'http://nsarchive.gwu.edu/NSAEBB/NSAEBB162',\n",
       "       'https://en.wikipedia.org/wiki/Manhattan_Project',\n",
       "       'https://quizlet.com/41456230/a-bomb-flash-cards/',\n",
       "       'https://www.atomicheritage.org/history/environmental-consequences'],\n",
       "      dtype=object)"
      ]
     },
     "execution_count": 27,
     "metadata": {},
     "output_type": "execute_result"
    }
   ],
   "source": [
    "train_df['passages'][0]['url']"
   ]
  },
  {
   "cell_type": "markdown",
   "metadata": {},
   "source": [
    "The URL section contains the source URL(s) from which the passage was extracted."
   ]
  },
  {
   "cell_type": "markdown",
   "metadata": {},
   "source": [
    "### Missing Data\n",
    "Based on the above exploration of the dataset, we can see that some of the queries don't have answers. Let's see how many don't have an answer."
   ]
  },
  {
   "cell_type": "code",
   "execution_count": 28,
   "metadata": {},
   "outputs": [
    {
     "data": {
      "text/plain": [
       "pandas.core.series.Series"
      ]
     },
     "execution_count": 28,
     "metadata": {},
     "output_type": "execute_result"
    }
   ],
   "source": [
    "type(train_df['answers'])"
   ]
  },
  {
   "cell_type": "code",
   "execution_count": 29,
   "metadata": {},
   "outputs": [
    {
     "data": {
      "text/plain": [
       "array(['The immediate impact of the success of the manhattan project was the only cloud hanging over the impressive achievement of the atomic researchers and engineers is what their success truly meant; hundreds of thousands of innocent lives obliterated.'],\n",
       "      dtype=object)"
      ]
     },
     "execution_count": 29,
     "metadata": {},
     "output_type": "execute_result"
    }
   ],
   "source": [
    "train_df['answers'][0]"
   ]
  },
  {
   "cell_type": "code",
   "execution_count": 30,
   "metadata": {},
   "outputs": [
    {
     "data": {
      "text/plain": [
       "numpy.ndarray"
      ]
     },
     "execution_count": 30,
     "metadata": {},
     "output_type": "execute_result"
    }
   ],
   "source": [
    "type(train_df['answers'][0])"
   ]
  },
  {
   "cell_type": "code",
   "execution_count": 31,
   "metadata": {},
   "outputs": [
    {
     "data": {
      "text/plain": [
       "'The immediate impact of the success of the manhattan project was the only cloud hanging over the impressive achievement of the atomic researchers and engineers is what their success truly meant; hundreds of thousands of innocent lives obliterated.'"
      ]
     },
     "execution_count": 31,
     "metadata": {},
     "output_type": "execute_result"
    }
   ],
   "source": [
    "train_df['answers'][0][0]"
   ]
  },
  {
   "cell_type": "code",
   "execution_count": 32,
   "metadata": {},
   "outputs": [
    {
     "data": {
      "text/plain": [
       "array(['No Answer Present.'], dtype=object)"
      ]
     },
     "execution_count": 32,
     "metadata": {},
     "output_type": "execute_result"
    }
   ],
   "source": [
    "train_df['answers'][14999]"
   ]
  },
  {
   "cell_type": "code",
   "execution_count": 33,
   "metadata": {},
   "outputs": [
    {
     "data": {
      "text/html": [
       "<div>\n",
       "<style scoped>\n",
       "    .dataframe tbody tr th:only-of-type {\n",
       "        vertical-align: middle;\n",
       "    }\n",
       "\n",
       "    .dataframe tbody tr th {\n",
       "        vertical-align: top;\n",
       "    }\n",
       "\n",
       "    .dataframe thead th {\n",
       "        text-align: right;\n",
       "    }\n",
       "</style>\n",
       "<table border=\"1\" class=\"dataframe\">\n",
       "  <thead>\n",
       "    <tr style=\"text-align: right;\">\n",
       "      <th></th>\n",
       "      <th>answers</th>\n",
       "      <th>passages</th>\n",
       "      <th>query</th>\n",
       "      <th>query_id</th>\n",
       "      <th>query_type</th>\n",
       "      <th>wellFormedAnswers</th>\n",
       "    </tr>\n",
       "  </thead>\n",
       "  <tbody>\n",
       "    <tr>\n",
       "      <th>5</th>\n",
       "      <td>[No Answer Present.]</td>\n",
       "      <td>{'is_selected': [0, 0, 0, 0, 0, 0, 0, 0, 0, 0]...</td>\n",
       "      <td>is the atlanta airport the busiest in the world</td>\n",
       "      <td>1174762</td>\n",
       "      <td>LOCATION</td>\n",
       "      <td>[]</td>\n",
       "    </tr>\n",
       "    <tr>\n",
       "      <th>10</th>\n",
       "      <td>[No Answer Present.]</td>\n",
       "      <td>{'is_selected': [0, 0, 0, 0, 0, 0, 0, 0, 0, 0]...</td>\n",
       "      <td>what direction does phloem flow</td>\n",
       "      <td>620830</td>\n",
       "      <td>DESCRIPTION</td>\n",
       "      <td>[]</td>\n",
       "    </tr>\n",
       "    <tr>\n",
       "      <th>12</th>\n",
       "      <td>[No Answer Present.]</td>\n",
       "      <td>{'is_selected': [0, 0, 0, 0, 0, 0, 0, 0, 0, 0]...</td>\n",
       "      <td>artin chicken mcdonalds calories</td>\n",
       "      <td>27022</td>\n",
       "      <td>NUMERIC</td>\n",
       "      <td>[]</td>\n",
       "    </tr>\n",
       "    <tr>\n",
       "      <th>13</th>\n",
       "      <td>[No Answer Present.]</td>\n",
       "      <td>{'is_selected': [0, 0, 0, 0, 0, 0, 0, 0, 0, 0]...</td>\n",
       "      <td>is panglao island safe</td>\n",
       "      <td>420332</td>\n",
       "      <td>DESCRIPTION</td>\n",
       "      <td>[]</td>\n",
       "    </tr>\n",
       "    <tr>\n",
       "      <th>14</th>\n",
       "      <td>[No Answer Present.]</td>\n",
       "      <td>{'is_selected': [0, 0, 0, 0, 0, 0, 0, 0, 0, 0]...</td>\n",
       "      <td>what is calomel powder used for?</td>\n",
       "      <td>727194</td>\n",
       "      <td>DESCRIPTION</td>\n",
       "      <td>[]</td>\n",
       "    </tr>\n",
       "  </tbody>\n",
       "</table>\n",
       "</div>"
      ],
      "text/plain": [
       "                 answers                                           passages  \\\n",
       "5   [No Answer Present.]  {'is_selected': [0, 0, 0, 0, 0, 0, 0, 0, 0, 0]...   \n",
       "10  [No Answer Present.]  {'is_selected': [0, 0, 0, 0, 0, 0, 0, 0, 0, 0]...   \n",
       "12  [No Answer Present.]  {'is_selected': [0, 0, 0, 0, 0, 0, 0, 0, 0, 0]...   \n",
       "13  [No Answer Present.]  {'is_selected': [0, 0, 0, 0, 0, 0, 0, 0, 0, 0]...   \n",
       "14  [No Answer Present.]  {'is_selected': [0, 0, 0, 0, 0, 0, 0, 0, 0, 0]...   \n",
       "\n",
       "                                              query  query_id   query_type  \\\n",
       "5   is the atlanta airport the busiest in the world   1174762     LOCATION   \n",
       "10                  what direction does phloem flow    620830  DESCRIPTION   \n",
       "12                 artin chicken mcdonalds calories     27022      NUMERIC   \n",
       "13                           is panglao island safe    420332  DESCRIPTION   \n",
       "14                 what is calomel powder used for?    727194  DESCRIPTION   \n",
       "\n",
       "   wellFormedAnswers  \n",
       "5                 []  \n",
       "10                []  \n",
       "12                []  \n",
       "13                []  \n",
       "14                []  "
      ]
     },
     "execution_count": 33,
     "metadata": {},
     "output_type": "execute_result"
    }
   ],
   "source": [
    "no_answer_records = train_df[train_df['answers'].apply(lambda x: len(x) == 1 and x[0] == 'No Answer Present.')]\n",
    "no_answer_records[0:5]"
   ]
  },
  {
   "cell_type": "code",
   "execution_count": 34,
   "metadata": {},
   "outputs": [
    {
     "data": {
      "text/plain": [
       "5853"
      ]
     },
     "execution_count": 34,
     "metadata": {},
     "output_type": "execute_result"
    }
   ],
   "source": [
    "len(no_answer_records)"
   ]
  },
  {
   "cell_type": "code",
   "execution_count": 35,
   "metadata": {},
   "outputs": [
    {
     "data": {
      "image/png": "[encoded data removed]",
      "text/plain": [
       "<Figure size 800x600 with 1 Axes>"
      ]
     },
     "metadata": {},
     "output_type": "display_data"
    }
   ],
   "source": [
    "categories = ['No Answer', 'With Answer']\n",
    "values = [len(no_answer_records), len(train_df)-len(no_answer_records)]\n",
    "\n",
    "plt.figure(figsize=(8, 6))\n",
    "\n",
    "bars = plt.bar(x=categories, height=values)\n",
    "plt.title('Records With & Without Answers in the Training Data')\n",
    "plt.ylabel('Number of Records')\n",
    "\n",
    "# Add value labels on top of each bar\n",
    "for bar in bars:\n",
    "    height = bar.get_height()\n",
    "    plt.text(bar.get_x() + bar.get_width()/2., height,\n",
    "             f'{int(height):,}',\n",
    "             ha='center', va='bottom')\n"
   ]
  },
  {
   "cell_type": "markdown",
   "metadata": {},
   "source": [
    "There are a total of 5 thousand for which the answer is not present. This is about one third of the entire training data. In case the model is not able to answer questions, we can consider retraining it with more data from the MS Marco dataset."
   ]
  },
  {
   "cell_type": "markdown",
   "metadata": {},
   "source": [
    "## Preprocess Data"
   ]
  },
  {
   "cell_type": "markdown",
   "metadata": {},
   "source": [
    "### Filtering Entries with Relevant Passages"
   ]
  },
  {
   "cell_type": "code",
   "execution_count": 36,
   "metadata": {},
   "outputs": [],
   "source": [
    "def filtered_passages(dataset):\n",
    "    filtered_data = []\n",
    "\n",
    "    for example in dataset:\n",
    "        query_id = example['query_id']\n",
    "        query = example['query']\n",
    "        passages = example['passages']\n",
    "        \n",
    "        # Extract the is_selected list and passage_text list\n",
    "        is_selected = passages['is_selected']\n",
    "        passage_texts = passages['passage_text']\n",
    "        urls = passages['url']\n",
    "        \n",
    "        # Find indices of relevant passages (where is_selected = 1)\n",
    "        relevant_indices = [i for i, selected in enumerate(is_selected) if selected == 1]\n",
    "        \n",
    "        # Find indices of non-relevant passages (where is_selected = 0)\n",
    "        non_relevant_indices = [i for i, selected in enumerate(is_selected) if selected == 0][:3]  # Limit to 3 negatives\n",
    "        \n",
    "        # Only keep examples with at least one relevant passage\n",
    "        if relevant_indices:\n",
    "            # Create positive passages list\n",
    "            positive_passages = [\n",
    "                { \n",
    "                    'passage_text': passage_texts[idx],\n",
    "                    'url': urls[idx]\n",
    "                } for idx in relevant_indices\n",
    "            ]\n",
    "            \n",
    "            # Create negative passages list\n",
    "            negative_passages = [\n",
    "                {\n",
    "                    'passage_text': passage_texts[idx],\n",
    "                    'url': urls[idx]\n",
    "                } for idx in non_relevant_indices\n",
    "            ]\n",
    "            \n",
    "            filtered_data.append({\n",
    "                'query_id': query_id,\n",
    "                'query': query,\n",
    "                'positive_passages': positive_passages,\n",
    "                'negative_passages': negative_passages\n",
    "            })\n",
    "    return filtered_data"
   ]
  },
  {
   "cell_type": "code",
   "execution_count": 37,
   "metadata": {},
   "outputs": [
    {
     "name": "stdout",
     "output_type": "stream",
     "text": [
      "Training Set: filtered 9142 rows\n",
      "Validation Set: filtered 6486 rows\n"
     ]
    }
   ],
   "source": [
    "filtered_train_data = filtered_passages(dataset)\n",
    "filtered_validation_data = filtered_passages(validation_dataset)\n",
    "# filtered_test_data = filtered_passages(test_dataset)\n",
    "\n",
    "print(f\"Training Set: filtered {len(filtered_train_data)} rows\")\n",
    "print(f\"Validation Set: filtered {len(filtered_validation_data)} rows\")\n",
    "# print(f\"Training Set: filtered {len(filtered_test_data)} rows\")"
   ]
  },
  {
   "cell_type": "code",
   "execution_count": 38,
   "metadata": {},
   "outputs": [
    {
     "name": "stdout",
     "output_type": "stream",
     "text": [
      "\n",
      "Sample query: )what was the immediate impact of the success of the manhattan project?\n",
      "\n",
      "Positive passages:\n",
      "1. The presence of communication amid scientific minds was equally important to the success of the Manh...\n",
      "\n",
      "Negative passages:\n",
      "1. The Manhattan Project and its atomic bomb helped bring an end to World War II. Its legacy of peacefu...\n",
      "2. Essay on The Manhattan Project - The Manhattan Project The Manhattan Project was to see if making an...\n",
      "3. The Manhattan Project was the name for a project conducted during World War II, to develop the first...\n"
     ]
    }
   ],
   "source": [
    "# Print a sample to verify\n",
    "if filtered_train_data:\n",
    "    sample = filtered_train_data[0]\n",
    "    print(\"\\nSample query:\", sample['query'])\n",
    "    print(\"\\nPositive passages:\")\n",
    "    for i, p in enumerate(sample['positive_passages']):\n",
    "        print(f\"{i+1}. {p['passage_text'][:100]}...\")\n",
    "    print(\"\\nNegative passages:\")\n",
    "    for i, p in enumerate(sample['negative_passages']):\n",
    "        print(f\"{i+1}. {p['passage_text'][:100]}...\")"
   ]
  },
  {
   "cell_type": "markdown",
   "metadata": {},
   "source": [
    "### Tokenization with DistilBERT"
   ]
  },
  {
   "cell_type": "code",
   "execution_count": 39,
   "metadata": {},
   "outputs": [],
   "source": [
    "# initializing the tokenizer\n",
    "tokenizer = AutoTokenizer.from_pretrained(\"distilbert-base-uncased\")"
   ]
  },
  {
   "cell_type": "code",
   "execution_count": 40,
   "metadata": {},
   "outputs": [],
   "source": [
    "# tokenize the filtered data:\n",
    "def process_data(filtered_data):\n",
    "    processed_data = []\n",
    "    for item in filtered_data:\n",
    "        query = item['query']\n",
    "        \n",
    "        # Tokenize query\n",
    "        query_tokenized = tokenizer(\n",
    "            query,\n",
    "            max_length=64,  # Queries are typically shorter - so max length is 64\n",
    "            truncation=True,\n",
    "            padding=True,\n",
    "            return_tensors=\"pt\"\n",
    "        )\n",
    "        \n",
    "        # Process positive passages\n",
    "        for pos_passage in item['positive_passages']:\n",
    "            passage_text = pos_passage['passage_text']\n",
    "            \n",
    "            # Tokenize passage\n",
    "            passage_tokenized = tokenizer(\n",
    "                passage_text,\n",
    "                max_length=128,\n",
    "                truncation=True,\n",
    "                padding=True,\n",
    "                return_tensors=\"pt\"\n",
    "            )\n",
    "            \n",
    "            # Sample one negative passage\n",
    "            if item['negative_passages']:\n",
    "                neg_passage = random.choice(item['negative_passages'])\n",
    "                neg_passage_text = neg_passage['passage_text']\n",
    "                \n",
    "                # Tokenize negative passage\n",
    "                neg_passage_tokenized = tokenizer(\n",
    "                    neg_passage_text,\n",
    "                    max_length=128,\n",
    "                    truncation=True,\n",
    "                    padding=True,\n",
    "                    return_tensors=\"pt\"\n",
    "                )\n",
    "            else:\n",
    "                # If no negative passages available, use a random one from another query\n",
    "                random_item = random.choice(filtered_data)\n",
    "                while random_item['query_id'] == item['query_id']:\n",
    "                    random_item = random.choice(filtered_data)\n",
    "                    \n",
    "                random_neg = random.choice(random_item['positive_passages'])\n",
    "                neg_passage_text = random_neg['passage_text']\n",
    "                \n",
    "                # Tokenize random negative passage\n",
    "                neg_passage_tokenized = tokenizer(\n",
    "                    neg_passage_text,\n",
    "                    max_length=128,\n",
    "                    truncation=True,\n",
    "                    padding=True,\n",
    "                    return_tensors=\"pt\"\n",
    "                )\n",
    "            \n",
    "            # Store processed triplet (query, positive passage, negative passage)\n",
    "            processed_data.append({\n",
    "                'query_id': item['query_id'],\n",
    "                'query_text': query,\n",
    "                'query_input_ids': query_tokenized['input_ids'].squeeze(),\n",
    "                'query_attention_mask': query_tokenized['attention_mask'].squeeze(),\n",
    "                'positive_passage_text': passage_text,\n",
    "                'positive_input_ids': passage_tokenized['input_ids'].squeeze(),\n",
    "                'positive_attention_mask': passage_tokenized['attention_mask'].squeeze(),\n",
    "                'negative_passage_text': neg_passage_text,\n",
    "                'negative_input_ids': neg_passage_tokenized['input_ids'].squeeze(),\n",
    "                'negative_attention_mask': neg_passage_tokenized['attention_mask'].squeeze(),\n",
    "            })\n",
    "    return processed_data\n"
   ]
  },
  {
   "cell_type": "code",
   "execution_count": 41,
   "metadata": {},
   "outputs": [
    {
     "name": "stdout",
     "output_type": "stream",
     "text": [
      "Generated 9786 training triplets\n",
      "Generated 6850 validation triplets\n"
     ]
    }
   ],
   "source": [
    "processed_train_data = process_data(filtered_train_data)\n",
    "processed_validation_data = process_data(filtered_validation_data)\n",
    "print(f\"Generated {len(processed_train_data)} training triplets\")\n",
    "print(f\"Generated {len(processed_validation_data)} validation triplets\")"
   ]
  },
  {
   "cell_type": "code",
   "execution_count": 42,
   "metadata": {},
   "outputs": [
    {
     "data": {
      "text/plain": [
       "{'query_id': 1185869,\n",
       " 'query_text': ')what was the immediate impact of the success of the manhattan project?',\n",
       " 'query_input_ids': tensor([ 101, 1007, 2054, 2001, 1996, 6234, 4254, 1997, 1996, 3112, 1997, 1996,\n",
       "         7128, 2622, 1029,  102]),\n",
       " 'query_attention_mask': tensor([1, 1, 1, 1, 1, 1, 1, 1, 1, 1, 1, 1, 1, 1, 1, 1]),\n",
       " 'positive_passage_text': 'The presence of communication amid scientific minds was equally important to the success of the Manhattan Project as scientific intellect was. The only cloud hanging over the impressive achievement of the atomic researchers and engineers is what their success truly meant; hundreds of thousands of innocent lives obliterated.',\n",
       " 'positive_input_ids': tensor([  101,  1996,  3739,  1997,  4807, 13463,  4045,  9273,  2001,  8053,\n",
       "          2590,  2000,  1996,  3112,  1997,  1996,  7128,  2622,  2004,  4045,\n",
       "         24823,  2001,  1012,  1996,  2069,  6112,  5689,  2058,  1996,  8052,\n",
       "          6344,  1997,  1996,  9593,  6950,  1998,  6145,  2003,  2054,  2037,\n",
       "          3112,  5621,  3214,  1025,  5606,  1997,  5190,  1997,  7036,  3268,\n",
       "         27885, 22779,  9250,  1012,   102]),\n",
       " 'positive_attention_mask': tensor([1, 1, 1, 1, 1, 1, 1, 1, 1, 1, 1, 1, 1, 1, 1, 1, 1, 1, 1, 1, 1, 1, 1, 1,\n",
       "         1, 1, 1, 1, 1, 1, 1, 1, 1, 1, 1, 1, 1, 1, 1, 1, 1, 1, 1, 1, 1, 1, 1, 1,\n",
       "         1, 1, 1, 1, 1, 1, 1]),\n",
       " 'negative_passage_text': 'The Manhattan Project was the name for a project conducted during World War II, to develop the first atomic bomb. It refers specifically to the period of the project from 194 … 2-1946 under the control of the U.S. Army Corps of Engineers, under the administration of General Leslie R. Groves.',\n",
       " 'negative_input_ids': tensor([  101,  1996,  7128,  2622,  2001,  1996,  2171,  2005,  1037,  2622,\n",
       "          4146,  2076,  2088,  2162,  2462,  1010,  2000,  4503,  1996,  2034,\n",
       "          9593,  5968,  1012,  2009,  5218,  4919,  2000,  1996,  2558,  1997,\n",
       "          1996,  2622,  2013, 19955,  1529,  1016,  1011,  3918,  2104,  1996,\n",
       "          2491,  1997,  1996,  1057,  1012,  1055,  1012,  2390,  3650,  1997,\n",
       "          6145,  1010,  2104,  1996,  3447,  1997,  2236,  8886,  1054,  1012,\n",
       "         21695,  1012,   102]),\n",
       " 'negative_attention_mask': tensor([1, 1, 1, 1, 1, 1, 1, 1, 1, 1, 1, 1, 1, 1, 1, 1, 1, 1, 1, 1, 1, 1, 1, 1,\n",
       "         1, 1, 1, 1, 1, 1, 1, 1, 1, 1, 1, 1, 1, 1, 1, 1, 1, 1, 1, 1, 1, 1, 1, 1,\n",
       "         1, 1, 1, 1, 1, 1, 1, 1, 1, 1, 1, 1, 1, 1, 1])}"
      ]
     },
     "execution_count": 42,
     "metadata": {},
     "output_type": "execute_result"
    }
   ],
   "source": [
    "processed_train_data[0]"
   ]
  },
  {
   "cell_type": "markdown",
   "metadata": {},
   "source": [
    "### Creating Dataset & Data Loaders"
   ]
  },
  {
   "cell_type": "code",
   "execution_count": 43,
   "metadata": {},
   "outputs": [],
   "source": [
    "# Create PyTorch dataset\n",
    "class DPRDataset(torch.utils.data.Dataset):\n",
    "    def __init__(self, processed_data):\n",
    "        self.data = processed_data\n",
    "        \n",
    "    def __len__(self):\n",
    "        return len(self.data)\n",
    "    \n",
    "    def __getitem__(self, idx):\n",
    "        item = self.data[idx]\n",
    "        return {\n",
    "            'query_input_ids': item['query_input_ids'],\n",
    "            'query_attention_mask': item['query_attention_mask'],\n",
    "            'positive_input_ids': item['positive_input_ids'],\n",
    "            'positive_attention_mask': item['positive_attention_mask'],\n",
    "            'negative_input_ids': item['negative_input_ids'],\n",
    "            'negative_attention_mask': item['negative_attention_mask']\n",
    "        }\n"
   ]
  },
  {
   "cell_type": "code",
   "execution_count": 44,
   "metadata": {},
   "outputs": [
    {
     "name": "stdout",
     "output_type": "stream",
     "text": [
      "Created data loaders with 612 training batches and 429 validation batches\n"
     ]
    }
   ],
   "source": [
    "# Create data loaders\n",
    "\n",
    "train_dataset = DPRDataset(processed_train_data)\n",
    "val_dataset = DPRDataset(processed_validation_data)\n",
    "\n",
    "# the function below helps to pad all the input sequences to the same length & creates a consistent dictionary for the batch\n",
    "def collate_fn(batch):\n",
    "    \"\"\"\n",
    "    Custom collate function to handle variable-length sequences\n",
    "    \"\"\"\n",
    "    # Pad input_ids\n",
    "    query_input_ids = pad_sequence(\n",
    "        [item['query_input_ids'] for item in batch], \n",
    "        batch_first=True, \n",
    "        padding_value=0\n",
    "    )\n",
    "    query_attention_mask = pad_sequence(\n",
    "        [item['query_attention_mask'] for item in batch], \n",
    "        batch_first=True, \n",
    "        padding_value=0\n",
    "    )\n",
    "    positive_input_ids = pad_sequence(\n",
    "        [item['positive_input_ids'] for item in batch], \n",
    "        batch_first=True, \n",
    "        padding_value=0\n",
    "    )\n",
    "    positive_attention_mask = pad_sequence(\n",
    "        [item['positive_attention_mask'] for item in batch], \n",
    "        batch_first=True, \n",
    "        padding_value=0\n",
    "    )\n",
    "    negative_input_ids = pad_sequence(\n",
    "        [item['negative_input_ids'] for item in batch], \n",
    "        batch_first=True, \n",
    "        padding_value=0\n",
    "    )\n",
    "    negative_attention_mask = pad_sequence(\n",
    "        [item['negative_attention_mask'] for item in batch], \n",
    "        batch_first=True, \n",
    "        padding_value=0\n",
    "    )\n",
    "\n",
    "    return {\n",
    "        'query_input_ids': query_input_ids,\n",
    "        'query_attention_mask': query_attention_mask,\n",
    "        'positive_input_ids': positive_input_ids,\n",
    "        'positive_attention_mask': positive_attention_mask,\n",
    "        'negative_input_ids': negative_input_ids,\n",
    "        'negative_attention_mask': negative_attention_mask\n",
    "    }\n",
    "\n",
    "# When creating DataLoaders, use the collate_fn\n",
    "train_loader = DataLoader(\n",
    "    train_dataset, \n",
    "    batch_size=16, \n",
    "    shuffle=True,\n",
    "    collate_fn=collate_fn  # Add this line\n",
    ")\n",
    "val_loader = DataLoader(\n",
    "    val_dataset, \n",
    "    batch_size=16,\n",
    "    collate_fn=collate_fn  # Add this line\n",
    ")\n",
    "\n",
    "\n",
    "print(f\"Created data loaders with {len(train_loader)} training batches and {len(val_loader)} validation batches\")"
   ]
  },
  {
   "cell_type": "markdown",
   "metadata": {},
   "source": [
    "Examples for us the see the examples of the train and test datasets:"
   ]
  },
  {
   "cell_type": "code",
   "execution_count": 45,
   "metadata": {},
   "outputs": [],
   "source": [
    "# Save some examples for inspection\n",
    "def inspect_examples(dataset, num_examples=3):\n",
    "    examples = []\n",
    "    for i in range(min(num_examples, len(dataset))):\n",
    "        item = dataset[i]\n",
    "        query = tokenizer.decode(item['query_input_ids'], skip_special_tokens=True)\n",
    "        pos_passage = tokenizer.decode(item['positive_input_ids'], skip_special_tokens=True)\n",
    "        neg_passage = tokenizer.decode(item['negative_input_ids'], skip_special_tokens=True)\n",
    "        \n",
    "        examples.append({\n",
    "            'Query': query,\n",
    "            'Positive Passage': pos_passage,\n",
    "            'Negative Passage': neg_passage\n",
    "        })\n",
    "    \n",
    "    return pd.DataFrame(examples)\n",
    "\n"
   ]
  },
  {
   "cell_type": "code",
   "execution_count": 46,
   "metadata": {},
   "outputs": [
    {
     "name": "stdout",
     "output_type": "stream",
     "text": [
      "\n",
      "Sample Examples:\n",
      "                                               Query  \\\n",
      "0  ) what was the immediate impact of the success...   \n",
      "1  _ _ _ _ _ _ _ _ _ justice is designed to repai...   \n",
      "2      why did stalin want control of eastern europe   \n",
      "\n",
      "                                    Positive Passage  \\\n",
      "0  the presence of communication amid scientific ...   \n",
      "1  the approach is based on a theory of justice t...   \n",
      "2  there are 3 main reasons why stalin wanted to ...   \n",
      "\n",
      "                                    Negative Passage  \n",
      "0  the manhattan project was the name for a proje...  \n",
      "1  tutorial : introduction to restorative justice...  \n",
      "2  satellite state. the term satellite state desi...  \n"
     ]
    }
   ],
   "source": [
    "examples_df = inspect_examples(train_dataset)\n",
    "print(\"\\nSample Examples:\")\n",
    "print(examples_df)"
   ]
  },
  {
   "cell_type": "code",
   "execution_count": 47,
   "metadata": {},
   "outputs": [
    {
     "name": "stdout",
     "output_type": "stream",
     "text": [
      "\n",
      "Sample Examples:\n",
      "                                               Query  \\\n",
      "0                           . what is a corporation?   \n",
      "1  why did rachel carson write an obligation to e...   \n",
      "2  why did rachel carson write an obligation to e...   \n",
      "\n",
      "                                    Positive Passage  \\\n",
      "0  mcdonald ' s corporation is one of the most re...   \n",
      "1  the obligation to endure by rachel carson rach...   \n",
      "2  carson believes that as man tries to eliminate...   \n",
      "\n",
      "                                    Negative Passage  \n",
      "0  today, there is a growing community of more th...  \n",
      "1  the essay starts out with the statement “ the ...  \n",
      "2  carson subtly defers her writing in just the r...  \n"
     ]
    }
   ],
   "source": [
    "examples_df = inspect_examples(val_dataset)\n",
    "print(\"\\nSample Examples:\")\n",
    "print(examples_df)"
   ]
  },
  {
   "cell_type": "markdown",
   "metadata": {},
   "source": [
    "# 3. Model Design (30%)"
   ]
  },
  {
   "cell_type": "code",
   "execution_count": 49,
   "metadata": {},
   "outputs": [],
   "source": [
    "# Encoder for queries/ passages using DistilBERT\n",
    "class DPREncoder(nn.Module):\n",
    "    def __init__(self, model_name=\"distilbert-base-uncased\", projection_dim=128):\n",
    "        super(DPREncoder, self).__init__()\n",
    "        \n",
    "        # Load pre-trained transformer model\n",
    "        self.transformer = AutoModel.from_pretrained(model_name)\n",
    "        \n",
    "        # Freeze transformer parameters (optional, depending on your use case)\n",
    "        for param in self.transformer.parameters():\n",
    "            param.requires_grad = False\n",
    "        \n",
    "        # Projection layer to map transformer output to lower-dimensional space\n",
    "        self.projection = nn.Linear(\n",
    "            self.transformer.config.hidden_size, \n",
    "            projection_dim\n",
    "        )\n",
    "    \n",
    "    def forward(self, input_ids, attention_mask):\n",
    "        # Get transformer outputs\n",
    "        outputs = self.transformer(\n",
    "            input_ids=input_ids, \n",
    "            attention_mask=attention_mask\n",
    "        )\n",
    "        \n",
    "        # Use [CLS] token representation\n",
    "        # For some models, you might want to use mean pooling instead\n",
    "        cls_embedding = outputs.last_hidden_state[:, 0, :]\n",
    "        \n",
    "        # Project to lower dimensional space\n",
    "        projected_embedding = self.projection(cls_embedding)\n",
    "        \n",
    "        # L2 normalize the embedding\n",
    "        normalized_embedding = F.normalize(projected_embedding, p=2, dim=1)\n",
    "        \n",
    "        return normalized_embedding"
   ]
  },
  {
   "cell_type": "code",
   "execution_count": 50,
   "metadata": {},
   "outputs": [],
   "source": [
    "# Combined model with query and passage encoders\n",
    "class DPRModel(nn.Module):\n",
    "    def __init__(self, model_name=\"distilbert-base-uncased\", projection_dim=128):\n",
    "        super(DPRModel, self).__init__()\n",
    "        self.query_encoder = DPREncoder(model_name, projection_dim)\n",
    "        self.passage_encoder = DPREncoder(model_name, projection_dim)\n",
    "    \n",
    "    def forward(self, query_input_ids, query_attention_mask, \n",
    "                pos_input_ids, pos_attention_mask,\n",
    "                neg_input_ids, neg_attention_mask):\n",
    "        # Encode query, positive and negative passages\n",
    "        query_emb = self.query_encoder(query_input_ids, query_attention_mask)\n",
    "        pos_emb = self.passage_encoder(pos_input_ids, pos_attention_mask)\n",
    "        neg_emb = self.passage_encoder(neg_input_ids, neg_attention_mask)\n",
    "        \n",
    "        return query_emb, pos_emb, neg_emb\n",
    "    \n",
    "    def encode_query(self, input_ids, attention_mask):\n",
    "        return self.query_encoder(input_ids, attention_mask)\n",
    "    \n",
    "    def encode_passage(self, input_ids, attention_mask):\n",
    "        return self.passage_encoder(input_ids, attention_mask)\n"
   ]
  },
  {
   "cell_type": "code",
   "execution_count": 52,
   "metadata": {},
   "outputs": [],
   "source": [
    "# More advanced InfoNCE loss that treats all other positives in batch as negatives.\n",
    "# This provides more negative examples without additional forward passes.\n",
    "def in_batch_negative_loss(query_emb, pos_emb, temperature=0.1):\n",
    "    \"\"\"\n",
    "    Compute in-batch negative contrastive loss\n",
    "    \n",
    "    Args:\n",
    "        query_emb (torch.Tensor): Query embeddings\n",
    "        pos_emb (torch.Tensor): Positive passage embeddings\n",
    "        temperature (float): Temperature scaling factor\n",
    "    \n",
    "    Returns:\n",
    "        torch.Tensor: Contrastive loss\n",
    "    \"\"\"\n",
    "    # Compute similarity matrix\n",
    "    sim_matrix = torch.matmul(query_emb, pos_emb.t()) / temperature\n",
    "    \n",
    "    # Compute softmax over similarity matrix\n",
    "    labels = torch.arange(sim_matrix.size(0)).to(sim_matrix.device)\n",
    "    loss = torch.nn.functional.cross_entropy(sim_matrix, labels)\n",
    "    \n",
    "    return loss\n"
   ]
  },
  {
   "cell_type": "markdown",
   "metadata": {},
   "source": [
    "# 4. Training Process (30%)"
   ]
  },
  {
   "cell_type": "code",
   "execution_count": 54,
   "metadata": {},
   "outputs": [],
   "source": [
    "# Train the DPR model with contrastive learning\n",
    "def train_dpr_model(model, train_loader, val_loader, device, epochs=5, lr=1e-5, \n",
    "                    use_in_batch_negatives=True, save_path=\"results/dpr_model.pt\"):\n",
    "    \"\"\"\n",
    "    Train Dense Passage Retrieval (DPR) model\n",
    "    \n",
    "    Args:\n",
    "        model (nn.Module): DPR model\n",
    "        train_loader (DataLoader): Training data loader\n",
    "        val_loader (DataLoader): Validation data loader\n",
    "        device (torch.device): Computing device\n",
    "        epochs (int): Number of training epochs\n",
    "        lr (float): Learning rate\n",
    "        use_in_batch_negatives (bool): Use in-batch negatives strategy\n",
    "        save_path (str): Path to save model checkpoints\n",
    "    \n",
    "    Returns:\n",
    "        tuple: Trained model, training losses, validation losses\n",
    "    \"\"\"\n",
    "    optimizer = torch.optim.AdamW(model.parameters(), lr=lr)\n",
    "    \n",
    "    # Learning rate scheduler with warmup\n",
    "    total_steps = len(train_loader) * epochs\n",
    "    scheduler = get_linear_schedule_with_warmup(\n",
    "        optimizer, num_warmup_steps=total_steps//10, num_training_steps=total_steps\n",
    "    )\n",
    "    \n",
    "    best_val_loss = float('inf')\n",
    "    train_losses = []\n",
    "    val_losses = []\n",
    "    \n",
    "    for epoch in range(epochs):\n",
    "        model.train()\n",
    "        total_train_loss = 0\n",
    "        \n",
    "        # Training loop\n",
    "        progress_bar = tqdm(train_loader, desc=f\"Epoch {epoch+1}/{epochs}\")\n",
    "        for batch in progress_bar:\n",
    "            # Move batch to device\n",
    "            query_input_ids = batch['query_input_ids'].to(device)\n",
    "            query_attention_mask = batch['query_attention_mask'].to(device)\n",
    "            pos_input_ids = batch['positive_input_ids'].to(device)\n",
    "            pos_attention_mask = batch['positive_attention_mask'].to(device)\n",
    "            neg_input_ids = batch['negative_input_ids'].to(device)\n",
    "            neg_attention_mask = batch['negative_attention_mask'].to(device)\n",
    "            \n",
    "            # Zero gradients\n",
    "            optimizer.zero_grad()\n",
    "            \n",
    "            # Forward pass\n",
    "            query_emb, pos_emb, neg_emb = model(\n",
    "                query_input_ids, query_attention_mask,\n",
    "                pos_input_ids, pos_attention_mask,\n",
    "                neg_input_ids, neg_attention_mask\n",
    "            )\n",
    "            \n",
    "            # Compute loss\n",
    "            if use_in_batch_negatives:\n",
    "                loss = in_batch_negative_loss(query_emb, pos_emb)\n",
    "            else:\n",
    "                # Implement info_nce_loss if needed\n",
    "                raise NotImplementedError(\"info_nce_loss not implemented\")\n",
    "            \n",
    "            # Backward pass and optimization\n",
    "            loss.backward()\n",
    "            optimizer.step()\n",
    "            scheduler.step()\n",
    "            \n",
    "            # Update total loss\n",
    "            total_train_loss += loss.item()\n",
    "            progress_bar.set_postfix({'loss': loss.item()})\n",
    "        \n",
    "        # Calculate average training loss for the epoch\n",
    "        avg_train_loss = total_train_loss / len(train_loader)\n",
    "        train_losses.append(avg_train_loss)\n",
    "        \n",
    "        # Validation\n",
    "        model.eval()\n",
    "        total_val_loss = 0\n",
    "        \n",
    "        with torch.no_grad():\n",
    "            for batch in tqdm(val_loader, desc=\"Validation\"):\n",
    "                # Move batch to device\n",
    "                query_input_ids = batch['query_input_ids'].to(device)\n",
    "                query_attention_mask = batch['query_attention_mask'].to(device)\n",
    "                pos_input_ids = batch['positive_input_ids'].to(device)\n",
    "                pos_attention_mask = batch['positive_attention_mask'].to(device)\n",
    "                neg_input_ids = batch['negative_input_ids'].to(device)\n",
    "                neg_attention_mask = batch['negative_attention_mask'].to(device)\n",
    "                \n",
    "                # Forward pass\n",
    "                query_emb, pos_emb, neg_emb = model(\n",
    "                    query_input_ids, query_attention_mask,\n",
    "                    pos_input_ids, pos_attention_mask,\n",
    "                    neg_input_ids, neg_attention_mask\n",
    "                )\n",
    "                \n",
    "                # Compute loss\n",
    "                if use_in_batch_negatives:\n",
    "                    loss = in_batch_negative_loss(query_emb, pos_emb)\n",
    "                else:\n",
    "                    # Implement info_nce_loss if needed\n",
    "                    raise NotImplementedError(\"info_nce_loss not implemented\")\n",
    "                \n",
    "                total_val_loss += loss.item()\n",
    "        \n",
    "        # Calculate average validation loss\n",
    "        avg_val_loss = total_val_loss / len(val_loader)\n",
    "        val_losses.append(avg_val_loss)\n",
    "        \n",
    "        print(f\"Epoch {epoch+1}/{epochs} - Train Loss: {avg_train_loss:.4f}, Val Loss: {avg_val_loss:.4f}\")\n",
    "        \n",
    "        # Save checkpoint if validation loss improved\n",
    "        if avg_val_loss < best_val_loss:\n",
    "            best_val_loss = avg_val_loss\n",
    "            torch.save({\n",
    "                'epoch': epoch,\n",
    "                'model_state_dict': model.state_dict(),\n",
    "                'optimizer_state_dict': optimizer.state_dict(),\n",
    "                'train_loss': avg_train_loss,\n",
    "                'val_loss': avg_val_loss,\n",
    "            }, save_path)\n",
    "            print(f\"Model checkpoint saved to {save_path}\")\n",
    "            \n",
    "    # Save the final model separately\n",
    "    torch.save({\n",
    "        'epoch': epochs,\n",
    "        'model_state_dict': model.state_dict(),\n",
    "        'optimizer_state_dict': optimizer.state_dict(),\n",
    "        'train_loss': train_losses[-1],\n",
    "        'val_loss': val_losses[-1],\n",
    "    }, save_path.replace('.pt', '_final.pt'))\n",
    "    \n",
    "    return model, train_losses, val_losses\n"
   ]
  },
  {
   "cell_type": "code",
   "execution_count": 57,
   "metadata": {},
   "outputs": [],
   "source": [
    "# Main function to train the DPR system\n",
    "def train_dpr_system(train_dataset, val_dataset, device=None):\n",
    "    if device is None:\n",
    "        device = torch.device(\"cuda\" if torch.cuda.is_available() else \"cpu\")\n",
    "    print(f\"Using device: {device}\")\n",
    "    \n",
    "    # Create data loaders with custom collate function\n",
    "    train_loader = DataLoader(\n",
    "        train_dataset, batch_size=16, shuffle=True,\n",
    "        collate_fn=collate_fn  # Use the custom collate function\n",
    "    )\n",
    "    val_loader = DataLoader(\n",
    "        val_dataset, batch_size=16,\n",
    "        collate_fn=collate_fn  # Use the custom collate function\n",
    "    )\n",
    "    \n",
    "    # Initialize model\n",
    "    model = DPRModel().to(device)\n",
    "    \n",
    "    # Train model\n",
    "    model, train_losses, val_losses = train_dpr_model(\n",
    "        model, train_loader, val_loader, device, \n",
    "        epochs=5, lr=1e-5,\n",
    "        use_in_batch_negatives=True,\n",
    "        save_path=\"results/dpr_model.pt\"\n",
    "    )\n",
    "    \n",
    "    return model, train_losses, val_losses"
   ]
  },
  {
   "cell_type": "markdown",
   "metadata": {},
   "source": [
    "Running the training:"
   ]
  },
  {
   "cell_type": "code",
   "execution_count": 60,
   "metadata": {},
   "outputs": [
    {
     "name": "stdout",
     "output_type": "stream",
     "text": [
      "Using device: cpu\n"
     ]
    },
    {
     "name": "stderr",
     "output_type": "stream",
     "text": [
      "Epoch 1/5: 100%|██████████| 612/612 [07:32<00:00,  1.35it/s, loss=1.81]\n",
      "Validation: 100%|██████████| 429/429 [02:43<00:00,  2.62it/s]\n"
     ]
    },
    {
     "name": "stdout",
     "output_type": "stream",
     "text": [
      "Epoch 1/5 - Train Loss: 2.6980, Val Loss: 2.4118\n",
      "Model checkpoint saved to results/dpr_model.pt\n"
     ]
    },
    {
     "name": "stderr",
     "output_type": "stream",
     "text": [
      "Epoch 2/5: 100%|██████████| 612/612 [07:36<00:00,  1.34it/s, loss=0.958]\n",
      "Validation: 100%|██████████| 429/429 [02:52<00:00,  2.48it/s]\n"
     ]
    },
    {
     "name": "stdout",
     "output_type": "stream",
     "text": [
      "Epoch 2/5 - Train Loss: 1.7621, Val Loss: 1.6932\n",
      "Model checkpoint saved to results/dpr_model.pt\n"
     ]
    },
    {
     "name": "stderr",
     "output_type": "stream",
     "text": [
      "Epoch 3/5: 100%|██████████| 612/612 [07:37<00:00,  1.34it/s, loss=1.36] \n",
      "Validation: 100%|██████████| 429/429 [02:44<00:00,  2.61it/s]\n"
     ]
    },
    {
     "name": "stdout",
     "output_type": "stream",
     "text": [
      "Epoch 3/5 - Train Loss: 1.3794, Val Loss: 1.5825\n",
      "Model checkpoint saved to results/dpr_model.pt\n"
     ]
    },
    {
     "name": "stderr",
     "output_type": "stream",
     "text": [
      "Epoch 4/5: 100%|██████████| 612/612 [07:41<00:00,  1.33it/s, loss=0.761]\n",
      "Validation: 100%|██████████| 429/429 [02:43<00:00,  2.62it/s]\n"
     ]
    },
    {
     "name": "stdout",
     "output_type": "stream",
     "text": [
      "Epoch 4/5 - Train Loss: 1.2793, Val Loss: 1.5388\n",
      "Model checkpoint saved to results/dpr_model.pt\n"
     ]
    },
    {
     "name": "stderr",
     "output_type": "stream",
     "text": [
      "Epoch 5/5: 100%|██████████| 612/612 [07:39<00:00,  1.33it/s, loss=0.882]\n",
      "Validation: 100%|██████████| 429/429 [02:44<00:00,  2.61it/s]\n"
     ]
    },
    {
     "name": "stdout",
     "output_type": "stream",
     "text": [
      "Epoch 5/5 - Train Loss: 1.2412, Val Loss: 1.5240\n",
      "Model checkpoint saved to results/dpr_model.pt\n"
     ]
    }
   ],
   "source": [
    "device = torch.device(\"cuda\" if torch.cuda.is_available() else \"cpu\")\n",
    "model, train_losses, val_losses = train_dpr_system(\n",
    "    train_dataset=train_dataset, \n",
    "    val_dataset=val_dataset, \n",
    "    device=device\n",
    ")"
   ]
  },
  {
   "cell_type": "code",
   "execution_count": 64,
   "metadata": {},
   "outputs": [
    {
     "data": {
      "image/png": "[encoded data removed]",
      "text/plain": [
       "<Figure size 1000x600 with 1 Axes>"
      ]
     },
     "metadata": {},
     "output_type": "display_data"
    }
   ],
   "source": [
    "# Visualization function for training progress\n",
    "\n",
    "plt.figure(figsize=(10, 6))\n",
    "plt.plot(train_losses, label='Training Loss')\n",
    "plt.plot(val_losses, label='Validation Loss')\n",
    "plt.xlabel('Epoch')\n",
    "plt.ylabel('Loss')\n",
    "plt.title('DPR Training Progress')\n",
    "plt.legend()\n",
    "plt.grid(True)\n",
    "plt.savefig('results/training_progress.png')\n",
    "plt.show()"
   ]
  },
  {
   "cell_type": "markdown",
   "metadata": {},
   "source": [
    "# 5. Indexing and Retrieval (20%)"
   ]
  },
  {
   "cell_type": "code",
   "execution_count": null,
   "metadata": {},
   "outputs": [],
   "source": [
    "index = faiss.IndexFlatL2(128) # For 128-dimensional embeddings\n",
    "index.add(tokenized_passages.numpy())"
   ]
  },
  {
   "cell_type": "markdown",
   "metadata": {},
   "source": [
    "# 6. Challenges and Insights (10%)"
   ]
  },
  {
   "cell_type": "code",
   "execution_count": null,
   "metadata": {},
   "outputs": [],
   "source": []
  },
  {
   "cell_type": "markdown",
   "metadata": {},
   "source": [
    "# Conclusion"
   ]
  }
 ],
 "metadata": {
  "kernelspec": {
   "display_name": "csye7230",
   "language": "python",
   "name": "python3"
  },
  "language_info": {
   "codemirror_mode": {
    "name": "ipython",
    "version": 3
   },
   "file_extension": ".py",
   "mimetype": "text/x-python",
   "name": "python",
   "nbconvert_exporter": "python",
   "pygments_lexer": "ipython3",
   "version": "3.10.16"
  }
 },
 "nbformat": 4,
 "nbformat_minor": 2
}
